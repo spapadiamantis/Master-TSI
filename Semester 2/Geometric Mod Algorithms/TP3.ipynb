{
 "cells": [
  {
   "cell_type": "markdown",
   "metadata": {},
   "source": [
    "# TP3: Triangulation de Delaunay\n",
    "\n",
    "Dans ce TP on se propose de recoder un algorithme permettant d'obtenir la triangulation de Delaunay d'un ensemble de points en 2D. Bien que cet algorithme soit disponible dans les modules matplotlib et scipy, il y a un intérêt pédagogique à reprendre ses grandes étapes, représentatives d'un algorithme géométrique."
   ]
  },
  {
   "cell_type": "code",
   "execution_count": 1,
   "metadata": {},
   "outputs": [],
   "source": [
    "import numpy as np \n",
    "import matplotlib.pyplot as plt"
   ]
  },
  {
   "cell_type": "markdown",
   "metadata": {},
   "source": [
    "## Boîte englobante\n",
    "\n",
    "1.Ecrire une fonction qui renvoie la boîte englobante d'un ensemble de points en 2D de coordonnées $(X_i,Y_i)$. La fonction doit renvoyer les quatre sommets d'un rectangle contenant les points et dont les coordonnées sont obtenues en combinant ensemble $m_X=\\min_i(X_i)$, $M_X=\\max_i(X_i)$ avec $m_Y=\\min_i(Y_i)$, $M_Y=\\max_i(Y_i)$.\n",
    "Vous ajouterez aussi, comme en cours, $\\pm \\epsilon_x$ et $\\pm \\epsilon_y$."
   ]
  },
  {
   "cell_type": "code",
   "execution_count": 2,
   "metadata": {},
   "outputs": [],
   "source": [
    "def boiteEnglobante(X,Y,ex=0.1,ey=0.1):\n",
    "    \"\"\"\n",
    "    X list of point coordenates in x axis\n",
    "    Y list of point coordinates in y axis\n",
    "    ex: padding in x axis\n",
    "    ey: padding in y axis\n",
    "    function returns a list of four points englobing \n",
    "    input points in bidimentional space\n",
    "    \"\"\"\n",
    "    \n",
    "    # Get min and max values for each coordinate\n",
    "    mx = np.min(X)\n",
    "    Mx = np.max(X)\n",
    "    my = np.min(Y)\n",
    "    My = np.max(Y)\n",
    "    \n",
    "    # Add margin values and return\n",
    "    return np.array([[mx-ex,my-ey],[Mx+ex,my-ey],[Mx+ex,My+ey],[mx-ex,My+ey]])"
   ]
  },
  {
   "cell_type": "markdown",
   "metadata": {},
   "source": [
    "2.Vérifiez, par la visualisation graphique, que vos programmes fonctionnent bien avec des poins aléatoires ou des figures géométriques plus simples comme des carrés"
   ]
  },
  {
   "cell_type": "code",
   "execution_count": 65,
   "metadata": {},
   "outputs": [
    {
     "data": {
      "image/png": "[encoded data removed]",
      "text/plain": [
       "<Figure size 432x288 with 1 Axes>"
      ]
     },
     "metadata": {
      "needs_background": "light"
     },
     "output_type": "display_data"
    }
   ],
   "source": [
    "# Create 10 random points\n",
    "points= np.random.rand(10,2)\n",
    "\n",
    "# Create box\n",
    "bords = boiteEnglobante(points[:,0],points[:,1])\n",
    "\n",
    "# Plot points\n",
    "plt.scatter(points[:,0],points[:,1])\n",
    "plt.scatter(bords[:,0],bords[:,1],color='r')\n",
    "plt.show()"
   ]
  },
  {
   "cell_type": "markdown",
   "metadata": {},
   "source": [
    "## Fonctions auxiliaires\n",
    "\n",
    "Dans la suite il vous sera peut-être utile de disposer des fonctions de visualisation suivantes qui vous permettront de vérifier que vos fonctions auxiliaires font ce qu'elles doivent faire."
   ]
  },
  {
   "cell_type": "code",
   "execution_count": 70,
   "metadata": {},
   "outputs": [],
   "source": [
    "# Affichage de triangles et d'un texte au centre de gravité\n",
    "\n",
    "def affichageTriangle(Tri,coords,texte='',col=False):\n",
    "    A=coords[Tri[0],:]\n",
    "    B=coords[Tri[1],:]\n",
    "    C=coords[Tri[2],:]\n",
    "    if col:\n",
    "        couleur='magenta'\n",
    "        plt.plot([A[0],B[0]],[A[1],B[1]],color=couleur)\n",
    "        plt.plot([A[0],C[0]],[A[1],C[1]],color=couleur)\n",
    "        plt.plot([C[0],B[0]],[C[1],B[1]],color=couleur)\n",
    "    else:\n",
    "        plt.plot([A[0],B[0]],[A[1],B[1]])\n",
    "        plt.plot([A[0],C[0]],[A[1],C[1]])\n",
    "        plt.plot([C[0],B[0]],[C[1],B[1]])\n",
    "    plt.text((A[0]+B[0]+C[0])/3,(A[1]+B[1]+C[1])/3,texte)\n",
    "    \n",
    "def affichageTousTriangles(Tri,coords,col=False):\n",
    "    for T in Tri:\n",
    "        affichageTriangle(T,coords,'',col)\n",
    "        \n",
    "def affichagePartieTriangles(listeTri,Tri,coords,col=False):\n",
    "    for t in listeTri:\n",
    "        T=Tri[t,:]\n",
    "        affichageTriangle(T,coords,str(t),col)"
   ]
  },
  {
   "cell_type": "markdown",
   "metadata": {},
   "source": [
    "4.Ecrire une fonction qui donne parmi les triangles déjà construits (Tri) ceux ne vérifiant pas la condition de Delaunay pour un nouveau point à ajouter (point). Vous utiliserez aussi la fonction estDansCirconscrit qui a été introduite au précédent TP."
   ]
  },
  {
   "cell_type": "code",
   "execution_count": 71,
   "metadata": {},
   "outputs": [],
   "source": [
    "\n",
    "def centreCercleCirconscrit(coords):\n",
    "    \"\"\"\n",
    "    coords: bidimentional point list\n",
    "    returns center point and radius of circonscribed circle\n",
    "    \"\"\"\n",
    "    A = coords[0]\n",
    "    B = coords[1]\n",
    "    C = coords[2]\n",
    "    \n",
    "    T = np.array([[B[0] -A[0],B[1]-A[1]],[C[0]-A[0],C[1]-A[1]]])\n",
    "    K = np.array([B[0]**2+B[1]**2-A[0]**2 -A[1]**2,C[0]**2+C[1]**2-A[0]**2 -A[1]**2])\n",
    "    x = np.linalg.solve(T, K/2)\n",
    "    r = np.linalg.norm(x-B)\n",
    "\n",
    "    return x,r\n",
    "\n",
    "def estDansCirconscrit(point,coords):\n",
    "    \"\"\"\n",
    "    point: point to see if exists in circle\n",
    "    coords: coordinates of triangle\n",
    "    \"\"\"\n",
    "    \n",
    "    # Get center and radius of circle\n",
    "    center , radix = centreCercleCirconscrit(coords)\n",
    "    \n",
    "    # Returns boolean variable\n",
    "    return(np.linalg.norm(point-center)<=radix)\n",
    "\n",
    "\n",
    "def triSupprimer(point,Tri,Coords):\n",
    "    \"\"\" \n",
    "     -point: coordonnées d'un point à ajouter\n",
    "     -Tri: triangulation existante\n",
    "     -Coords: coordonnées des points de la triangulation\n",
    "     Sorties: \n",
    "     -triASupprimer: liste d'indices de triangles de Tri dont le cercle circonscrit contient point\n",
    "    \"\"\"\n",
    "    triAsupprimer = []\n",
    "    \n",
    "    # For each triangle\n",
    "    for i in range(len(Tri)): \n",
    "        \n",
    "        # Check if the point is in the circonscribed circle\n",
    "        if estDansCirconscrit(point,Coords[Tri[i],:]):\n",
    "            \n",
    "            # Append to lis if yes\n",
    "            triAsupprimer.append(i)\n",
    "    \n",
    "    return(np.array(triAsupprimer))\n",
    "\n",
    "\n",
    "    \n",
    "    "
   ]
  },
  {
   "cell_type": "markdown",
   "metadata": {},
   "source": [
    "5.Ecrire une fonction qui renvoie les nouveaux triangles de la triangulation après réorganisation des triangles à supprimer, relativement à un point d'indice i et de coordonnées point. Vous utiliserez la fonction triAnglePolaire introduite au TP2."
   ]
  },
  {
   "cell_type": "code",
   "execution_count": 79,
   "metadata": {},
   "outputs": [],
   "source": [
    "def triAnglePolaire(coords,point):\n",
    "\n",
    "    res = np.zeros(len(coords))\n",
    "    for i in range(len(coords)):\n",
    "        vector = np.array([coords[i,0]-point[0],coords[i,1]-point[1]])\n",
    "        z = complex(vector[0],vector[1])\n",
    "        res[i] = np.angle(z,deg=True)\n",
    "        \n",
    "    return res\n",
    "\n",
    "def triAjouter(i,point,triASupprimer,Tri,Coords):\n",
    "    \"\"\"Entrées: \n",
    "     -i: indice d'un point à ajouter à Tri\n",
    "     -point: coordonnées du point à ajouter\n",
    "     -triASupprimer: triangles à supprimer\n",
    "     -Tri: triangulation existante\n",
    "     -Coords: coordonnées des points de la triangulatio\n",
    "    \n",
    "     Sorties: \n",
    "     -triAAjouter: tableau (p x 3) de nouveaux triangles à ajouter à la triangulation Tri\n",
    "    \"\"\"\n",
    "    # 1. Récupérer les sommets (s_j) des triangles à supprimer\n",
    "    triAAjouter = []\n",
    "    s = np.unique(Tri[triASupprimer,:].flatten())\n",
    "    # 2. Ordonner les sommets par valeur croissante de l'angle polaire formée par le vecteur (point,sommet)\n",
    "    # et l'axe des abscisses. Utillisez la fonction triAnglePolaire du TP2\n",
    "    \n",
    "    center = [0,0]\n",
    "    polar_angs = triAnglePolaire(Coords[s],point)\n",
    "    ind = np.argsort(polar_angs)\n",
    "    Coords = Coords[ind]\n",
    "    polar_angs = polar_angs[ind]\n",
    "\n",
    "    s = s[ind]\n",
    "    s = np.hstack((s, s[0]))\n",
    "    # 3. Parcourir les sommets ordonnés, et ajouter les triangles (i,s_j,s_{j+1}) à triAAjouter\n",
    "    for j in range(len(s)-1):\n",
    "        triAAjouter.append([i,s[j],s[j+1]])\n",
    "    return(np.array(triAAjouter))\n",
    "    "
   ]
  },
  {
   "cell_type": "markdown",
   "metadata": {},
   "source": [
    "## Fonction principale\n",
    "6.Ecrire enfin la fonction qui assemble les différentes étapes élémentaires. On donne ici l'en-tête et les principales étapes"
   ]
  },
  {
   "cell_type": "code",
   "execution_count": 80,
   "metadata": {},
   "outputs": [],
   "source": [
    "def myDelaunay(X,Y):\n",
    "    # Entrées: X,Y coordonnées de n points en 2D\n",
    "    #\n",
    "    # Sorties: \n",
    "    # -Tri: triangulation de Delaunay des points en entrée auxquels \n",
    "    # on ajoute éventuellement de 0 à 4 points de la boîte englobante\n",
    "    # -Coords: coordonnées des points triangulés\n",
    "    \n",
    "    n=X.shape[0] #nombre de points\n",
    "    \n",
    "    # 1. Calcul de la boite englobante des points\n",
    "    Coords = boiteEnglobante(X,Y)\n",
    "    \n",
    "    plt.scatter(points[:,0],points[:,1])\n",
    "    plt.scatter(bords[:,0],bords[:,1],color='r')\n",
    "    plt.show()\n",
    "    # 2. Triangulation initiale (Tri), Points initiaux (Coords). \n",
    "    # Obtenus avec les 4 points de la boîte englobante\n",
    "    Tri = np.array([[0,1,2],[0,2,3]])\n",
    "    \n",
    "    # 3. Enlever les points éventuels de la boîte de X et Y\n",
    "    \n",
    "    # 4. Parcours des points restants (X,Y)\n",
    "\n",
    "    for i in range(n):\n",
    "        # 1) triangles à supprimer\n",
    "        point = np.array([X[i],Y[i]])\n",
    "\n",
    "        triAsupprimer = triSupprimer(point,Tri,Coords)\n",
    "        # 2) triangles à rajouter\n",
    "        triAjoutes = triAjouter(i+4,point,triAsupprimer,Tri,Coords)\n",
    "\n",
    "        # 3) Mise à jour de Tri et Coords\n",
    "        # - Utiliser les méthodes delete et concatenate de numpy\n",
    "        Coords = np.vstack((Coords,point))\n",
    "\n",
    "        Tri = np.vstack((Tri,triAjoutes))\n",
    "\n",
    "        Tri2 = np.delete(Tri,triAsupprimer,axis=0)\n",
    "        Tri  = Tri2\n",
    "\n",
    "        #plt.figure()\n",
    "        #affichageTousTriangles(Tri,Coords,col=False)\n",
    "\n",
    "\n",
    "\n",
    "    return(Tri,Coords)"
   ]
  },
  {
   "cell_type": "code",
   "execution_count": 81,
   "metadata": {},
   "outputs": [
    {
     "data": {
      "image/png": "[encoded data removed]",
      "text/plain": [
       "<Figure size 432x288 with 1 Axes>"
      ]
     },
     "metadata": {
      "needs_background": "light"
     },
     "output_type": "display_data"
    },
    {
     "data": {
      "image/png": "[encoded data removed]",
      "text/plain": [
       "<Figure size 432x288 with 1 Axes>"
      ]
     },
     "metadata": {
      "needs_background": "light"
     },
     "output_type": "display_data"
    }
   ],
   "source": [
    "tri,coords = myDelaunay(points[:,0],points[:,1])\n",
    "\n",
    "#affichageTousTriangles(tri,coords,col=False)\n",
    "\n",
    "del_list = [0,1,2,3]\n",
    "final = []\n",
    "for i in tri:\n",
    "    flag = 1\n",
    "    for k in i:\n",
    "        if k in del_list:\n",
    "            flag=0\n",
    "            \n",
    "    if flag:\n",
    "        final.append(list(i))\n",
    "            \n",
    "\n",
    "affichageTousTriangles(final,coords,col=False)"
   ]
  },
  {
   "cell_type": "code",
   "execution_count": null,
   "metadata": {},
   "outputs": [],
   "source": []
  },
  {
   "cell_type": "code",
   "execution_count": null,
   "metadata": {},
   "outputs": [],
   "source": []
  },
  {
   "cell_type": "code",
   "execution_count": null,
   "metadata": {},
   "outputs": [],
   "source": []
  }
 ],
 "metadata": {
  "kernelspec": {
   "display_name": "Python 3",
   "language": "python",
   "name": "python3"
  },
  "language_info": {
   "codemirror_mode": {
    "name": "ipython",
    "version": 3
   },
   "file_extension": ".py",
   "mimetype": "text/x-python",
   "name": "python",
   "nbconvert_exporter": "python",
   "pygments_lexer": "ipython3",
   "version": "3.7.3"
  }
 },
 "nbformat": 4,
 "nbformat_minor": 2
}
