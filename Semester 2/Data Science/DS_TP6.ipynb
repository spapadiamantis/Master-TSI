{
 "cells": [
  {
   "cell_type": "markdown",
   "metadata": {
    "colab_type": "text",
    "id": "C5XFjLJ1KaX5"
   },
   "source": [
    "# Recommandation de films par factorisation de matrices\n",
    "\n",
    "L'objectif de ce TP est d'implémenter des algorithmes  permettant de recommander des films à des utilisateurs.\n",
    "\n",
    "Le TP comporte deux parties :\n",
    "\n",
    "* Manipulation et affichage des données donnant des informations sur les films et les préférences des utilisateurs.\n",
    "\n",
    "* Implémentation de deux algorithmes pour la recommandation.\n",
    "\n"
   ]
  },
  {
   "cell_type": "markdown",
   "metadata": {
    "colab_type": "text",
    "id": "K9w6TtUzKkfx"
   },
   "source": [
    "## Partie I"
   ]
  },
  {
   "cell_type": "markdown",
   "metadata": {
    "colab_type": "text",
    "id": "NAGKuZNrKk7K"
   },
   "source": [
    "* On considère un ensemble d'utilisateurs qui ont noté des films selon leurs préférences. On va utiliser une variable de type dictionnaire pour stocker ces informations. Ci-dessous un exemple. "
   ]
  },
  {
   "cell_type": "code",
   "execution_count": 1,
   "metadata": {
    "colab": {},
    "colab_type": "code",
    "id": "Di3aPtoCKfSX"
   },
   "outputs": [],
   "source": [
    "donnees ={'Jill': {'Avenger: Age of Ultron': 7.0,\n",
    "'Django Unchained': 6.5,\n",
    "'Gone Girl': 9.0,\n",
    "'Kill the Messenger': 8.0},\n",
    "'Julia': {'Avenger: Age of Ultron': 10.0,\n",
    "'Django Unchained': 6.0,\n",
    "'Gone Girl': 6.5,\n",
    "'Kill the Messenger': 6.0,\n",
    "'Zoolander': 6.5},\n",
    "'Max': {'Avenger: Age of Ultron': 7.0,\n",
    "'Django Unchained': 7.0,\n",
    "'Gone Girl': 10.0,\n",
    "'Horrible Bosses 2': 6.0,\n",
    "'Kill the Messenger': 5.0,\n",
    "'Zoolander': 10.0},\n",
    "'Robert': {'Avenger: Age of Ultron': 8.0,\n",
    "'Django Unchained': 7.0,\n",
    "'Horrible Bosses 2': 5.0,\n",
    "'Kill the Messenger': 9.0,\n",
    "'Zoolander': 9.0},\n",
    "'Sam': {'Avenger: Age of Ultron': 10.0,\n",
    "'Django Unchained': 7.5,\n",
    "'Gone Girl': 6.0,\n",
    "'Horrible Bosses 2': 3.0,\n",
    "'Kill the Messenger': 5.5,\n",
    "'Zoolander': 7.0},\n",
    "'Toby': {'Avenger: Age of Ultron': 8.5,\n",
    "'Django Unchained': 9.0,\n",
    "'Zoolander': 2.0},\n",
    "'William': {'Avenger: Age of Ultron': 6.0,'Django Unchained': 8.0,\n",
    "'Gone Girl': 7.0,\n",
    "'Horrible Bosses 2': 4.0,\n",
    "'Kill the Messenger': 6.5,\n",
    "'Zoolander': 4.0}}"
   ]
  },
  {
   "cell_type": "markdown",
   "metadata": {
    "colab_type": "text",
    "id": "kUTZaSN2PQbo"
   },
   "source": [
    "* Pour afficher le dictionnaire on peut utiliser la librairie Pandas et le type dataFrame. Pandas est une librairie pour manipuler facilment des données.  Ci-dessous le code permettant d'afficher les films, les utilisatuers et leurs préférences. "
   ]
  },
  {
   "cell_type": "code",
   "execution_count": 2,
   "metadata": {
    "colab": {
     "base_uri": "https://localhost:8080/",
     "height": 237
    },
    "colab_type": "code",
    "id": "EnaRN9icPZ7r",
    "outputId": "0977ad46-273b-4224-c766-82c93a20061c"
   },
   "outputs": [
    {
     "data": {
      "text/html": [
       "<div>\n",
       "<style scoped>\n",
       "    .dataframe tbody tr th:only-of-type {\n",
       "        vertical-align: middle;\n",
       "    }\n",
       "\n",
       "    .dataframe tbody tr th {\n",
       "        vertical-align: top;\n",
       "    }\n",
       "\n",
       "    .dataframe thead th {\n",
       "        text-align: right;\n",
       "    }\n",
       "</style>\n",
       "<table border=\"1\" class=\"dataframe\">\n",
       "  <thead>\n",
       "    <tr style=\"text-align: right;\">\n",
       "      <th></th>\n",
       "      <th>Jill</th>\n",
       "      <th>Julia</th>\n",
       "      <th>Max</th>\n",
       "      <th>Robert</th>\n",
       "      <th>Sam</th>\n",
       "      <th>Toby</th>\n",
       "      <th>William</th>\n",
       "    </tr>\n",
       "  </thead>\n",
       "  <tbody>\n",
       "    <tr>\n",
       "      <th>Avenger: Age of Ultron</th>\n",
       "      <td>7.0</td>\n",
       "      <td>10.0</td>\n",
       "      <td>7.0</td>\n",
       "      <td>8.0</td>\n",
       "      <td>10.0</td>\n",
       "      <td>8.5</td>\n",
       "      <td>6.0</td>\n",
       "    </tr>\n",
       "    <tr>\n",
       "      <th>Django Unchained</th>\n",
       "      <td>6.5</td>\n",
       "      <td>6.0</td>\n",
       "      <td>7.0</td>\n",
       "      <td>7.0</td>\n",
       "      <td>7.5</td>\n",
       "      <td>9.0</td>\n",
       "      <td>8.0</td>\n",
       "    </tr>\n",
       "    <tr>\n",
       "      <th>Gone Girl</th>\n",
       "      <td>9.0</td>\n",
       "      <td>6.5</td>\n",
       "      <td>10.0</td>\n",
       "      <td>NaN</td>\n",
       "      <td>6.0</td>\n",
       "      <td>NaN</td>\n",
       "      <td>7.0</td>\n",
       "    </tr>\n",
       "    <tr>\n",
       "      <th>Horrible Bosses 2</th>\n",
       "      <td>NaN</td>\n",
       "      <td>NaN</td>\n",
       "      <td>6.0</td>\n",
       "      <td>5.0</td>\n",
       "      <td>3.0</td>\n",
       "      <td>NaN</td>\n",
       "      <td>4.0</td>\n",
       "    </tr>\n",
       "    <tr>\n",
       "      <th>Kill the Messenger</th>\n",
       "      <td>8.0</td>\n",
       "      <td>6.0</td>\n",
       "      <td>5.0</td>\n",
       "      <td>9.0</td>\n",
       "      <td>5.5</td>\n",
       "      <td>NaN</td>\n",
       "      <td>6.5</td>\n",
       "    </tr>\n",
       "    <tr>\n",
       "      <th>Zoolander</th>\n",
       "      <td>NaN</td>\n",
       "      <td>6.5</td>\n",
       "      <td>10.0</td>\n",
       "      <td>9.0</td>\n",
       "      <td>7.0</td>\n",
       "      <td>2.0</td>\n",
       "      <td>4.0</td>\n",
       "    </tr>\n",
       "  </tbody>\n",
       "</table>\n",
       "</div>"
      ],
      "text/plain": [
       "                        Jill  Julia   Max  Robert   Sam  Toby  William\n",
       "Avenger: Age of Ultron   7.0   10.0   7.0     8.0  10.0   8.5      6.0\n",
       "Django Unchained         6.5    6.0   7.0     7.0   7.5   9.0      8.0\n",
       "Gone Girl                9.0    6.5  10.0     NaN   6.0   NaN      7.0\n",
       "Horrible Bosses 2        NaN    NaN   6.0     5.0   3.0   NaN      4.0\n",
       "Kill the Messenger       8.0    6.0   5.0     9.0   5.5   NaN      6.5\n",
       "Zoolander                NaN    6.5  10.0     9.0   7.0   2.0      4.0"
      ]
     },
     "execution_count": 2,
     "metadata": {},
     "output_type": "execute_result"
    }
   ],
   "source": [
    "import pandas as pd\n",
    "df = pd.DataFrame(donnees)\n",
    "df"
   ]
  },
  {
   "cell_type": "markdown",
   "metadata": {
    "colab_type": "text",
    "id": "b5atL-39eMe8"
   },
   "source": [
    "1. Ecrire une fonction qui permet de saisir des films, des utilisateurs et leurs préférences. La fonction retourne une variable de type dictionnaire qui contient ces informations comme indiqué dans l'exemple ci-dessus."
   ]
  },
  {
   "cell_type": "code",
   "execution_count": null,
   "metadata": {
    "colab": {},
    "colab_type": "code",
    "id": "a4DaDXFwgvPn"
   },
   "outputs": [],
   "source": [
    "from io import StringIO\n",
    "\n",
    "def add_movie(df):\n",
    "    print(\"Donnez le nom du film\")\n",
    "    name = input()\n",
    "    print(\"Donnez une liste de nom d'utlisateur et sa preference\")\n",
    "    print(\"Example:Jill, 7.0 \\n\\tJulia, 6.5\")\n",
    "    input_text = input()\n",
    "    df1 = pd.read_csv(StringIO(input_text),index_col=name)\n",
    "    df1_transposed = df1.T\n",
    "    df.append(df1_transposed)\n",
    "    \n",
    "\n",
    "add_movie(df)"
   ]
  },
  {
   "cell_type": "code",
   "execution_count": null,
   "metadata": {},
   "outputs": [],
   "source": []
  },
  {
   "cell_type": "markdown",
   "metadata": {
    "colab_type": "text",
    "id": "J3f5pV2FLInZ"
   },
   "source": [
    "2. Ecrire une fonction `note` qui permet de retourner la note d'un utilisateur à un film. "
   ]
  },
  {
   "cell_type": "code",
   "execution_count": 3,
   "metadata": {
    "colab": {},
    "colab_type": "code",
    "id": "9fVZ3z9UM-QF"
   },
   "outputs": [
    {
     "name": "stdout",
     "output_type": "stream",
     "text": [
      "6.5\n"
     ]
    }
   ],
   "source": [
    "def note(df,film_name,username):\n",
    "    return df.loc[film_name,username] \n",
    "\n",
    "print(note(df,'Django Unchained','Jill'))"
   ]
  },
  {
   "cell_type": "markdown",
   "metadata": {
    "colab_type": "text",
    "id": "o3tQcA0DiXO8"
   },
   "source": [
    "Dans ce qui suit, on s'intéresse à comparer deux films. On utilise une liste L pour stcoker les notes de ces deux films."
   ]
  },
  {
   "cell_type": "markdown",
   "metadata": {
    "colab_type": "text",
    "id": "jacaV-bVO-GD"
   },
   "source": [
    "3. Utilisant la fonction `note`, écrire un code qui crée une liste L de tuples chacun contenant l'utilisateur et ses deux notes à deux films choisis parmi la liste des films dans `donnees`. Par exemple, la fonction avec les paramètres  `django` et `avenger` retourne : \n",
    "\n",
    "`[('Jill', 6.5, 7.0), ('Julia', 6.0, 10.0), ('Max', 7.0, 7.0), ('Robert', 7.0, 8.0), ('Sam', 7.5, 10.0), ('Toby', 9.0, 8.5), ('William', 8.0, 6.0)]`.\n"
   ]
  },
  {
   "cell_type": "code",
   "execution_count": 8,
   "metadata": {
    "colab": {},
    "colab_type": "code",
    "id": "SkLCUtJuQM3d"
   },
   "outputs": [
    {
     "data": {
      "text/plain": [
       "[('Jill', 6.5, 7.0),\n",
       " ('Julia', 6.0, 10.0),\n",
       " ('Max', 7.0, 7.0),\n",
       " ('Robert', 7.0, 8.0),\n",
       " ('Sam', 7.5, 10.0),\n",
       " ('Toby', 9.0, 8.5),\n",
       " ('William', 8.0, 6.0)]"
      ]
     },
     "execution_count": 8,
     "metadata": {},
     "output_type": "execute_result"
    }
   ],
   "source": [
    "def compare(df,first,second):\n",
    "    note_list = []\n",
    "    columnsNamesArr = df.columns.values\n",
    "    for i in columnsNamesArr:\n",
    "        note_list.append((i,note(df,first,i),note(df,second,i)))\n",
    "    return note_list\n",
    "\n",
    "L = compare(df,'Django Unchained','Avenger: Age of Ultron')\n",
    "L"
   ]
  },
  {
   "cell_type": "markdown",
   "metadata": {
    "colab_type": "text",
    "id": "nVKplD4lWRsV"
   },
   "source": [
    "On peut afficher la liste utilisant le format `dataFrame` de pandas."
   ]
  },
  {
   "cell_type": "code",
   "execution_count": 9,
   "metadata": {
    "colab": {
     "base_uri": "https://localhost:8080/",
     "height": 269
    },
    "colab_type": "code",
    "id": "zxUfn44DWQOI",
    "outputId": "65e3fbd9-073d-4cc3-d348-ec3aa10ebd21"
   },
   "outputs": [
    {
     "data": {
      "text/html": [
       "<div>\n",
       "<style scoped>\n",
       "    .dataframe tbody tr th:only-of-type {\n",
       "        vertical-align: middle;\n",
       "    }\n",
       "\n",
       "    .dataframe tbody tr th {\n",
       "        vertical-align: top;\n",
       "    }\n",
       "\n",
       "    .dataframe thead th {\n",
       "        text-align: right;\n",
       "    }\n",
       "</style>\n",
       "<table border=\"1\" class=\"dataframe\">\n",
       "  <thead>\n",
       "    <tr style=\"text-align: right;\">\n",
       "      <th></th>\n",
       "      <th>user</th>\n",
       "      <th>django</th>\n",
       "      <th>avenger</th>\n",
       "    </tr>\n",
       "  </thead>\n",
       "  <tbody>\n",
       "    <tr>\n",
       "      <th>0</th>\n",
       "      <td>Jill</td>\n",
       "      <td>6.5</td>\n",
       "      <td>7.0</td>\n",
       "    </tr>\n",
       "    <tr>\n",
       "      <th>1</th>\n",
       "      <td>Julia</td>\n",
       "      <td>6.0</td>\n",
       "      <td>10.0</td>\n",
       "    </tr>\n",
       "    <tr>\n",
       "      <th>2</th>\n",
       "      <td>Max</td>\n",
       "      <td>7.0</td>\n",
       "      <td>7.0</td>\n",
       "    </tr>\n",
       "    <tr>\n",
       "      <th>3</th>\n",
       "      <td>Robert</td>\n",
       "      <td>7.0</td>\n",
       "      <td>8.0</td>\n",
       "    </tr>\n",
       "    <tr>\n",
       "      <th>4</th>\n",
       "      <td>Sam</td>\n",
       "      <td>7.5</td>\n",
       "      <td>10.0</td>\n",
       "    </tr>\n",
       "    <tr>\n",
       "      <th>5</th>\n",
       "      <td>Toby</td>\n",
       "      <td>9.0</td>\n",
       "      <td>8.5</td>\n",
       "    </tr>\n",
       "    <tr>\n",
       "      <th>6</th>\n",
       "      <td>William</td>\n",
       "      <td>8.0</td>\n",
       "      <td>6.0</td>\n",
       "    </tr>\n",
       "  </tbody>\n",
       "</table>\n",
       "</div>"
      ],
      "text/plain": [
       "      user  django  avenger\n",
       "0     Jill     6.5      7.0\n",
       "1    Julia     6.0     10.0\n",
       "2      Max     7.0      7.0\n",
       "3   Robert     7.0      8.0\n",
       "4      Sam     7.5     10.0\n",
       "5     Toby     9.0      8.5\n",
       "6  William     8.0      6.0"
      ]
     },
     "execution_count": 9,
     "metadata": {},
     "output_type": "execute_result"
    }
   ],
   "source": [
    "df = pd.DataFrame(data = L, columns = ['user', 'django','avenger'])\n",
    "df"
   ]
  },
  {
   "cell_type": "markdown",
   "metadata": {
    "colab_type": "text",
    "id": "rgnWSzZMTL9l"
   },
   "source": [
    "* Le code suivant permet de représenter graphiquement la liste L."
   ]
  },
  {
   "cell_type": "code",
   "execution_count": 10,
   "metadata": {
    "colab": {
     "base_uri": "https://localhost:8080/",
     "height": 279
    },
    "colab_type": "code",
    "id": "AWVquVPMWuJG",
    "outputId": "1b8aba2a-cdb1-4ebe-adf4-2d1c36d3d3ee"
   },
   "outputs": [
    {
     "data": {
      "image/png": "[encoded data removed]",
      "text/plain": [
       "<Figure size 432x288 with 1 Axes>"
      ]
     },
     "metadata": {
      "needs_background": "light"
     },
     "output_type": "display_data"
    }
   ],
   "source": [
    "import matplotlib.pyplot as plt\n",
    "%matplotlib inline\n",
    "\n",
    "plt.scatter(df.django, df.avenger)\n",
    "plt.xlabel('Django')\n",
    "plt.ylabel('Avengers')\n",
    "for i,txt in enumerate(df.user):\n",
    "  plt.annotate(txt, (df.django[i],df.avenger[i]))\n",
    "plt.show()"
   ]
  },
  {
   "cell_type": "markdown",
   "metadata": {
    "colab_type": "text",
    "id": "wy7SLQomTMTZ"
   },
   "source": [
    "4. Ecrire une fonction qui calcule la distance euclidienne entre les notes de deux utilisateurs de la liste L.  Utiliser la fonction pour afficher la distance entre par exemple `Jill` et `Toby` et celle entre `Robert` et `Max` et comparer les résultats (vous pouvez choisir n'importe quels utilisateurs de `donnees`)."
   ]
  },
  {
   "cell_type": "code",
   "execution_count": 57,
   "metadata": {
    "colab": {},
    "colab_type": "code",
    "id": "fi8vZvMpXr_F"
   },
   "outputs": [
    {
     "name": "stdout",
     "output_type": "stream",
     "text": [
      "2.9154759474226504\n",
      "2.9154759474226504\n",
      "1.0\n"
     ]
    }
   ],
   "source": [
    "import numpy as np\n",
    "def calculateDistance(x1,y1,x2,y2):\n",
    "    return np.sqrt((x2 - x1)**2 + (y2 - y1)**2) \n",
    "first = df[df['user'] =='Jill']\n",
    "second =  df[ df['user'] =='Toby']\n",
    "\n",
    "print(calculateDistance(first['django'].iloc[(0,)],first['avenger'].iloc[(0,)],second['django'].iloc[(0,)],second['avenger'].iloc[(0,)]))\n",
    "\n",
    "\n",
    "\"\"\" alternative avec une liste\"\"\"\n",
    "\n",
    "def dist(L,first,second):\n",
    "    for element in L:\n",
    "        name,first_val,second_val = element\n",
    "        if name==first:\n",
    "            x1 = first_val\n",
    "            y1 = second_val\n",
    "        elif name == second:\n",
    "            x2 = first_val\n",
    "            y2 = second_val\n",
    "        \n",
    "    return calculateDistance(x1,y1,x2,y2)\n",
    "    \n",
    "print(dist(L,'Jill','Toby'))\n",
    "print(dist(L,'Robert','Max'))"
   ]
  },
  {
   "cell_type": "markdown",
   "metadata": {
    "colab_type": "text",
    "id": "e5OVsoTKTMkx"
   },
   "source": [
    "5. Ecrire une fonction qui calcule la similarité entre deux utilisateurs de la liste `L`. La similarité est définie comme étant égale à `1/(1+distance)`. "
   ]
  },
  {
   "cell_type": "code",
   "execution_count": 58,
   "metadata": {
    "colab": {},
    "colab_type": "code",
    "id": "NvbGT7XFmG6m"
   },
   "outputs": [
    {
     "name": "stdout",
     "output_type": "stream",
     "text": [
      "0.2553967929896867\n",
      "0.5\n"
     ]
    }
   ],
   "source": [
    "def similarity(L,first,second):\n",
    "    return(1/(1+dist(L,first,second)))\n",
    "\n",
    "print(similarity(L,'Jill','Toby'))\n",
    "print(similarity(L,'Robert','Max'))"
   ]
  },
  {
   "cell_type": "markdown",
   "metadata": {
    "colab_type": "text",
    "id": "Ijp2sQQHzZmP"
   },
   "source": [
    "6. Ecrire un code qui permet de calculer la similarité entre deux utilisateurs à partir de tous les films qu'ils ont notés (dans la variable `donnees`)."
   ]
  },
  {
   "cell_type": "code",
   "execution_count": null,
   "metadata": {
    "colab": {},
    "colab_type": "code",
    "id": "LSX4FfuNpw87"
   },
   "outputs": [],
   "source": []
  },
  {
   "cell_type": "markdown",
   "metadata": {
    "colab_type": "text",
    "id": "PEBTg9Z5TM1M"
   },
   "source": [
    "7. Ecrire un code qui permet d'afficher par ordre décroissant les utilisatuers similaires à un utilisatuer donnée."
   ]
  },
  {
   "cell_type": "code",
   "execution_count": 0,
   "metadata": {
    "colab": {},
    "colab_type": "code",
    "id": "I_c_Y_xt0rQl"
   },
   "outputs": [],
   "source": [
    "# Code à compléter\n",
    "\n"
   ]
  },
  {
   "cell_type": "markdown",
   "metadata": {
    "colab_type": "text",
    "id": "OpBpYAkFl1aV"
   },
   "source": [
    "## Partie 2\n",
    "\n",
    "Comme vous l'avez remarqué en affichant la variable `donnees`, on n'a pas les notes pour tous les films. Il y a des cases vides (NAN).\n",
    "\n",
    "Pouvoir recommander des films à des utilisateurs revient dans ce cas à trouver une bonne estimation des valeurs manquantes. "
   ]
  },
  {
   "cell_type": "code",
   "execution_count": 62,
   "metadata": {
    "colab": {
     "base_uri": "https://localhost:8080/",
     "height": 237
    },
    "colab_type": "code",
    "id": "PM2W5Kf5l0jZ",
    "outputId": "f7a08ee2-78c3-48c9-b997-8af5bcf7d995"
   },
   "outputs": [
    {
     "data": {
      "text/plain": [
       "Avenger: Age of Ultron    7.0\n",
       "Django Unchained          6.5\n",
       "Gone Girl                 9.0\n",
       "Horrible Bosses 2         NaN\n",
       "Kill the Messenger        8.0\n",
       "Zoolander                 NaN\n",
       "Name: Jill, dtype: float64"
      ]
     },
     "execution_count": 62,
     "metadata": {},
     "output_type": "execute_result"
    }
   ],
   "source": [
    "import pandas as pd\n",
    "df = pd.DataFrame(donnees)\n",
    "df['Jill']"
   ]
  },
  {
   "cell_type": "markdown",
   "metadata": {
    "colab_type": "text",
    "id": "-9-M-gYE7CTq"
   },
   "source": [
    "Une façon de faire est d'identifier les utilisateurs  similaires à un utilsateur qu'on veut lui recommander un film et de remplacer la valeure manquante par la moyenne des notes de ces utilisateurs similaires. L'idée est que des utilisateurs similaires ont les mêmes préférences.\n"
   ]
  },
  {
   "cell_type": "markdown",
   "metadata": {
    "colab_type": "text",
    "id": "hvvnxGuGnXIz"
   },
   "source": [
    "\n",
    "8. Ecrire un programe qui permet de remplir les notes manquantes d'un utilisateur donné (par exemple `Jill`). La valeur manquante pour un utilisateur est remplacée par la moyenne des notes des deux utilisateurs les plus similaires à cet utilisateur."
   ]
  },
  {
   "cell_type": "code",
   "execution_count": 63,
   "metadata": {
    "colab": {},
    "colab_type": "code",
    "id": "hTvbYekT7qFZ"
   },
   "outputs": [
    {
     "data": {
      "text/html": [
       "<div>\n",
       "<style scoped>\n",
       "    .dataframe tbody tr th:only-of-type {\n",
       "        vertical-align: middle;\n",
       "    }\n",
       "\n",
       "    .dataframe tbody tr th {\n",
       "        vertical-align: top;\n",
       "    }\n",
       "\n",
       "    .dataframe thead th {\n",
       "        text-align: right;\n",
       "    }\n",
       "</style>\n",
       "<table border=\"1\" class=\"dataframe\">\n",
       "  <thead>\n",
       "    <tr style=\"text-align: right;\">\n",
       "      <th></th>\n",
       "      <th>Jill</th>\n",
       "      <th>Julia</th>\n",
       "      <th>Max</th>\n",
       "      <th>Robert</th>\n",
       "      <th>Sam</th>\n",
       "      <th>Toby</th>\n",
       "      <th>William</th>\n",
       "    </tr>\n",
       "  </thead>\n",
       "  <tbody>\n",
       "    <tr>\n",
       "      <th>Avenger: Age of Ultron</th>\n",
       "      <td>7.000</td>\n",
       "      <td>10.0</td>\n",
       "      <td>7.0</td>\n",
       "      <td>8.0</td>\n",
       "      <td>10.0</td>\n",
       "      <td>8.5</td>\n",
       "      <td>6.0</td>\n",
       "    </tr>\n",
       "    <tr>\n",
       "      <th>Django Unchained</th>\n",
       "      <td>6.500</td>\n",
       "      <td>6.0</td>\n",
       "      <td>7.0</td>\n",
       "      <td>7.0</td>\n",
       "      <td>7.5</td>\n",
       "      <td>9.0</td>\n",
       "      <td>8.0</td>\n",
       "    </tr>\n",
       "    <tr>\n",
       "      <th>Gone Girl</th>\n",
       "      <td>9.000</td>\n",
       "      <td>6.5</td>\n",
       "      <td>10.0</td>\n",
       "      <td>NaN</td>\n",
       "      <td>6.0</td>\n",
       "      <td>NaN</td>\n",
       "      <td>7.0</td>\n",
       "    </tr>\n",
       "    <tr>\n",
       "      <th>Horrible Bosses 2</th>\n",
       "      <td>7.625</td>\n",
       "      <td>NaN</td>\n",
       "      <td>6.0</td>\n",
       "      <td>5.0</td>\n",
       "      <td>3.0</td>\n",
       "      <td>NaN</td>\n",
       "      <td>4.0</td>\n",
       "    </tr>\n",
       "    <tr>\n",
       "      <th>Kill the Messenger</th>\n",
       "      <td>8.000</td>\n",
       "      <td>6.0</td>\n",
       "      <td>5.0</td>\n",
       "      <td>9.0</td>\n",
       "      <td>5.5</td>\n",
       "      <td>NaN</td>\n",
       "      <td>6.5</td>\n",
       "    </tr>\n",
       "    <tr>\n",
       "      <th>Zoolander</th>\n",
       "      <td>7.625</td>\n",
       "      <td>6.5</td>\n",
       "      <td>10.0</td>\n",
       "      <td>9.0</td>\n",
       "      <td>7.0</td>\n",
       "      <td>2.0</td>\n",
       "      <td>4.0</td>\n",
       "    </tr>\n",
       "  </tbody>\n",
       "</table>\n",
       "</div>"
      ],
      "text/plain": [
       "                         Jill  Julia   Max  Robert   Sam  Toby  William\n",
       "Avenger: Age of Ultron  7.000   10.0   7.0     8.0  10.0   8.5      6.0\n",
       "Django Unchained        6.500    6.0   7.0     7.0   7.5   9.0      8.0\n",
       "Gone Girl               9.000    6.5  10.0     NaN   6.0   NaN      7.0\n",
       "Horrible Bosses 2       7.625    NaN   6.0     5.0   3.0   NaN      4.0\n",
       "Kill the Messenger      8.000    6.0   5.0     9.0   5.5   NaN      6.5\n",
       "Zoolander               7.625    6.5  10.0     9.0   7.0   2.0      4.0"
      ]
     },
     "execution_count": 63,
     "metadata": {},
     "output_type": "execute_result"
    }
   ],
   "source": [
    "def remplir(df,name):\n",
    "    df[name].fillna((df[name].mean()), inplace=True)\n",
    "\n",
    "remplir(df,'Jill')\n",
    "df"
   ]
  },
  {
   "cell_type": "markdown",
   "metadata": {
    "colab_type": "text",
    "id": "B1vKoN9tDPz5"
   },
   "source": [
    "Une autre façon de faire est d'utiliser des décompositions matricielles. On va utiliser dans ce projet la décomosition en valeurs singulières. On transforme la variable `donnees` en une matrice `mat`."
   ]
  },
  {
   "cell_type": "code",
   "execution_count": 64,
   "metadata": {
    "colab": {
     "base_uri": "https://localhost:8080/",
     "height": 121
    },
    "colab_type": "code",
    "id": "gdm5tOu6taxO",
    "outputId": "7f22f3f3-10dd-428b-fe9b-e4d0f867c728"
   },
   "outputs": [
    {
     "name": "stdout",
     "output_type": "stream",
     "text": [
      "[[ 7.    10.     7.     8.    10.     8.5    6.   ]\n",
      " [ 6.5    6.     7.     7.     7.5    9.     8.   ]\n",
      " [ 9.     6.5   10.       nan  6.       nan  7.   ]\n",
      " [ 7.625    nan  6.     5.     3.       nan  4.   ]\n",
      " [ 8.     6.     5.     9.     5.5      nan  6.5  ]\n",
      " [ 7.625  6.5   10.     9.     7.     2.     4.   ]]\n"
     ]
    },
    {
     "name": "stderr",
     "output_type": "stream",
     "text": [
      "/home/sotiris/anaconda3/lib/python3.7/site-packages/ipykernel_launcher.py:1: FutureWarning: Method .as_matrix will be removed in a future version. Use .values instead.\n",
      "  \"\"\"Entry point for launching an IPython kernel.\n"
     ]
    }
   ],
   "source": [
    "mat = df.as_matrix()\n",
    "print(mat)\n"
   ]
  },
  {
   "cell_type": "markdown",
   "metadata": {
    "colab_type": "text",
    "id": "88p4JqWRD2BK"
   },
   "source": [
    "9. remplacer les valeurs manquantes dans `mat` par des zéros."
   ]
  },
  {
   "cell_type": "code",
   "execution_count": 65,
   "metadata": {
    "colab": {},
    "colab_type": "code",
    "id": "MeZIGE-tEDqf"
   },
   "outputs": [
    {
     "data": {
      "text/plain": [
       "array([[ 7.   , 10.   ,  7.   ,  8.   , 10.   ,  8.5  ,  6.   ],\n",
       "       [ 6.5  ,  6.   ,  7.   ,  7.   ,  7.5  ,  9.   ,  8.   ],\n",
       "       [ 9.   ,  6.5  , 10.   ,  0.   ,  6.   ,  0.   ,  7.   ],\n",
       "       [ 7.625,  0.   ,  6.   ,  5.   ,  3.   ,  0.   ,  4.   ],\n",
       "       [ 8.   ,  6.   ,  5.   ,  9.   ,  5.5  ,  0.   ,  6.5  ],\n",
       "       [ 7.625,  6.5  , 10.   ,  9.   ,  7.   ,  2.   ,  4.   ]])"
      ]
     },
     "execution_count": 65,
     "metadata": {},
     "output_type": "execute_result"
    }
   ],
   "source": [
    "mat = np.nan_to_num(mat)\n",
    "mat"
   ]
  },
  {
   "cell_type": "markdown",
   "metadata": {
    "colab_type": "text",
    "id": "O2ephnuREnrV"
   },
   "source": [
    "10. Calculer la décomposition SVD de la matrice `mat`."
   ]
  },
  {
   "cell_type": "code",
   "execution_count": 68,
   "metadata": {
    "colab": {},
    "colab_type": "code",
    "id": "woFNVwkNFAf7"
   },
   "outputs": [],
   "source": [
    "u, s, vh = np.linalg.svd(mat, full_matrices=False)"
   ]
  },
  {
   "cell_type": "markdown",
   "metadata": {
    "colab_type": "text",
    "id": "_VJOhox2FQmP"
   },
   "source": [
    "11. Reconstruire la matrice utilisant les deux premières valeurs singulières et les deux premiers vecteurs singuliers. Afficher le résultat et comparer avec la matrice `mat`. Que remarquez vous ?"
   ]
  },
  {
   "cell_type": "code",
   "execution_count": 72,
   "metadata": {
    "colab": {},
    "colab_type": "code",
    "id": "RLp5DTUiFHSd"
   },
   "outputs": [
    {
     "data": {
      "text/plain": [
       "True"
      ]
     },
     "execution_count": 72,
     "metadata": {},
     "output_type": "execute_result"
    }
   ],
   "source": [
    "np.allclose(mat, np.dot(u * s, vh))\n",
    "smat = np.diag(s)\n",
    "np.allclose(mat, np.dot(u, np.dot(smat, vh)))"
   ]
  },
  {
   "cell_type": "markdown",
   "metadata": {
    "colab_type": "text",
    "id": "frHzLEUHrOPl"
   },
   "source": [
    "Le résultat obtenu permet de trouver des valeurs pour les valeurs manquantes mais change aussi les valeurs qui n'étaient pas manquantes. \n"
   ]
  },
  {
   "cell_type": "markdown",
   "metadata": {
    "colab_type": "text",
    "id": "vBJwaYBnvFkO"
   },
   "source": [
    "12. Ecrire les lignes de codes qui permettent de modifier dans 'mat' que les valeurs manquantes obtenues par la reconsruction par SVD."
   ]
  },
  {
   "cell_type": "code",
   "execution_count": 77,
   "metadata": {
    "colab": {},
    "colab_type": "code",
    "id": "31mTAligvbxt"
   },
   "outputs": [
    {
     "data": {
      "text/plain": [
       "array([[ 7.00000000e+00,  1.00000000e+01,  7.00000000e+00,\n",
       "         8.00000000e+00,  1.00000000e+01,  8.50000000e+00,\n",
       "         6.00000000e+00],\n",
       "       [ 6.50000000e+00,  6.00000000e+00,  7.00000000e+00,\n",
       "         7.00000000e+00,  7.50000000e+00,  9.00000000e+00,\n",
       "         8.00000000e+00],\n",
       "       [ 9.00000000e+00,  6.50000000e+00,  1.00000000e+01,\n",
       "        -6.80788520e-15,  6.00000000e+00,  1.21733733e-14,\n",
       "         7.00000000e+00],\n",
       "       [ 7.62500000e+00,  6.59896520e-15,  6.00000000e+00,\n",
       "         5.00000000e+00,  3.00000000e+00, -2.37981377e-15,\n",
       "         4.00000000e+00],\n",
       "       [ 8.00000000e+00,  6.00000000e+00,  5.00000000e+00,\n",
       "         9.00000000e+00,  5.50000000e+00, -7.41912427e-15,\n",
       "         6.50000000e+00],\n",
       "       [ 7.62500000e+00,  6.50000000e+00,  1.00000000e+01,\n",
       "         9.00000000e+00,  7.00000000e+00,  2.00000000e+00,\n",
       "         4.00000000e+00]])"
      ]
     },
     "execution_count": 77,
     "metadata": {},
     "output_type": "execute_result"
    }
   ],
   "source": [
    "svd = np.dot(u * s, vh)\n",
    "mat\n",
    "def modify_values(matrix,svd):\n",
    "    for i in range(matrix.shape[0]):\n",
    "        for j in range(matrix.shape[1]):\n",
    "            if matrix[i][j]== 0:\n",
    "                matrix[i][j] = svd[i][j]\n",
    "    return\n",
    "\n",
    "modify_values(mat,svd)\n",
    "mat"
   ]
  },
  {
   "cell_type": "markdown",
   "metadata": {
    "colab_type": "text",
    "id": "EoNx4pt8vcum"
   },
   "source": [
    "13. Ecrire un code qui permet d'itérer les étapes 10, 11 et 12 plusieurs fois. Le nombre de répétition est fixé par un entier `k` fixé à l'avance."
   ]
  },
  {
   "cell_type": "code",
   "execution_count": 0,
   "metadata": {
    "colab": {},
    "colab_type": "code",
    "id": "dwuRXwM5wCeD"
   },
   "outputs": [],
   "source": [
    "k =3\n",
    "for i in range(k):\n",
    "    \n"
   ]
  },
  {
   "cell_type": "markdown",
   "metadata": {
    "colab_type": "text",
    "id": "KjpQwKlSwMft"
   },
   "source": [
    "**Bonus.** On s'intéresse maintenant à compléter un grand nombre de trous choisis aléatoirment."
   ]
  },
  {
   "cell_type": "markdown",
   "metadata": {
    "colab_type": "text",
    "id": "QdHITNO4wDYY"
   },
   "source": [
    "14. Ecrire un code qui permet de :\n",
    "\n",
    "    * générer deux matrices aléatoires `matrice` et `filtre`. `matrice` contient des valeurs réels et `filtre` des valeurs égales à 1 ou 0,\n",
    "    \n",
    "    * créer les trous en générant la matrice `mat` produit de Hadamard de `matrice` et `filtre`,\n",
    "    \n",
    "    * calculer la matrice `matrice_reconstruite` la reconstruction de `matrice`  utilisant 13, \n",
    "    \n",
    "    * afficher l'erreur de reconstruction qui est égale à la norme de la différence entre `matrice` et `matrice_reconstruite`"
   ]
  },
  {
   "cell_type": "code",
   "execution_count": 0,
   "metadata": {
    "colab": {},
    "colab_type": "code",
    "id": "OUMkNPq_x3WA"
   },
   "outputs": [],
   "source": [
    "# code à compléter"
   ]
  },
  {
   "cell_type": "markdown",
   "metadata": {
    "colab_type": "text",
    "id": "twEwbNs6x-5C"
   },
   "source": [
    "15. Ecrire un programme qui permet d'afficher les graphiques suivants : \n",
    "  \n",
    "       * la courbe d'erreur de reconstruction en variant le nombre de trous (c'est à dire le nombre de zéro dans la matrice `filtre`),\n",
    "       \n",
    "       * la courbe d'erreur de reconstruction en variant le nombre de valeurs singulières utilisé pour la reconstruction."
   ]
  },
  {
   "cell_type": "code",
   "execution_count": 0,
   "metadata": {
    "colab": {},
    "colab_type": "code",
    "id": "uY_upEHfypfN"
   },
   "outputs": [],
   "source": [
    "# code à compléter"
   ]
  }
 ],
 "metadata": {
  "colab": {
   "collapsed_sections": [],
   "name": "prog2_projet.ipynb",
   "provenance": [],
   "version": "0.3.2"
  },
  "kernelspec": {
   "display_name": "Python 3",
   "language": "python",
   "name": "python3"
  },
  "language_info": {
   "codemirror_mode": {
    "name": "ipython",
    "version": 3
   },
   "file_extension": ".py",
   "mimetype": "text/x-python",
   "name": "python",
   "nbconvert_exporter": "python",
   "pygments_lexer": "ipython3",
   "version": "3.7.3"
  }
 },
 "nbformat": 4,
 "nbformat_minor": 1
}
