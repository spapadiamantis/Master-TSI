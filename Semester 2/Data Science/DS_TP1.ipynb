{
 "cells": [
  {
   "cell_type": "markdown",
   "metadata": {
    "colab_type": "text",
    "id": "7HDpECWMH0tB"
   },
   "source": [
    "# Introduction à la Science de Données\n",
    "# TP1 - Prise en main de python et de Scikit-Learn\n",
    "\n",
    "## Python\n",
    "\n",
    "Python est un langage de programmation simple, qui peut être interprété dans un shell (terminal) ou via une interface comme celle-ci (on peut même éventuellement compiler du code python). Le plus souvent, nous allons travailler avec des Jupyter Notebook comme celui-ci dans ce cours. Le principe est le suivant : il y a des cellules dans lequel on tape du code (ou du texte, comme ici - double-clicker ici pour voir le code de cette cellule). Un fois le code écrit, on lance la cellule avec le bouton \"Exécuter\" (ou \"Run\"), en haut au milieu, et le code s'exécute ! Top, non ? \n",
    "\n",
    "On essaie ? *Exécuter* cette cellule pour lui redonner son apparence initiale si vous avez double-clické dessus, puis exécuter la suivante."
   ]
  },
  {
   "cell_type": "code",
   "execution_count": 1,
   "metadata": {
    "colab": {},
    "colab_type": "code",
    "id": "-zuNGqREH0tM"
   },
   "outputs": [
    {
     "name": "stdout",
     "output_type": "stream",
     "text": [
      "Hello world!\n"
     ]
    }
   ],
   "source": [
    "print(\"Hello world!\")"
   ]
  },
  {
   "cell_type": "markdown",
   "metadata": {
    "colab_type": "text",
    "id": "k5pwGwCJH0tg"
   },
   "source": [
    "### Variables et types\n",
    "Vous devez donc avoir compris que *exécuter* une cellule de code affiche le résultat en dessous.\n",
    "\n",
    "On peut écrire du code python comme si on utilisait une calculette (avec des variables). Même si on fera rapidement des choses plus évoluées, on commence par ça (vous pouvez modifier le contenu des cellule et les exécuter autant de fois que vous voulez) :"
   ]
  },
  {
   "cell_type": "code",
   "execution_count": 2,
   "metadata": {
    "colab": {},
    "colab_type": "code",
    "id": "zWIKwVrKH0tj"
   },
   "outputs": [
    {
     "data": {
      "text/plain": [
       "2"
      ]
     },
     "execution_count": 2,
     "metadata": {},
     "output_type": "execute_result"
    }
   ],
   "source": [
    "2"
   ]
  },
  {
   "cell_type": "code",
   "execution_count": 3,
   "metadata": {
    "colab": {},
    "colab_type": "code",
    "id": "-Ic0fUiDH0ts"
   },
   "outputs": [
    {
     "data": {
      "text/plain": [
       "4"
      ]
     },
     "execution_count": 3,
     "metadata": {},
     "output_type": "execute_result"
    }
   ],
   "source": [
    "2*2"
   ]
  },
  {
   "cell_type": "code",
   "execution_count": 5,
   "metadata": {
    "colab": {},
    "colab_type": "code",
    "id": "60MSgLvUH0t2"
   },
   "outputs": [],
   "source": [
    "a = 2"
   ]
  },
  {
   "cell_type": "code",
   "execution_count": 6,
   "metadata": {
    "colab": {},
    "colab_type": "code",
    "id": "QPLcgb-bH0t8"
   },
   "outputs": [
    {
     "data": {
      "text/plain": [
       "6"
      ]
     },
     "execution_count": 6,
     "metadata": {},
     "output_type": "execute_result"
    }
   ],
   "source": [
    "a*3"
   ]
  },
  {
   "cell_type": "code",
   "execution_count": 7,
   "metadata": {
    "colab": {},
    "colab_type": "code",
    "id": "R_xhR0ZNH0uB"
   },
   "outputs": [
    {
     "data": {
      "text/plain": [
       "int"
      ]
     },
     "execution_count": 7,
     "metadata": {},
     "output_type": "execute_result"
    }
   ],
   "source": [
    "type(a)"
   ]
  },
  {
   "cell_type": "code",
   "execution_count": 8,
   "metadata": {
    "colab": {},
    "colab_type": "code",
    "id": "vQEUCdX3H0uH"
   },
   "outputs": [
    {
     "data": {
      "text/plain": [
       "float"
      ]
     },
     "execution_count": 8,
     "metadata": {},
     "output_type": "execute_result"
    }
   ],
   "source": [
    "type(a*0.5)"
   ]
  },
  {
   "cell_type": "code",
   "execution_count": 9,
   "metadata": {
    "colab": {},
    "colab_type": "code",
    "id": "upv0QMflH0uR"
   },
   "outputs": [],
   "source": [
    "b = a*3"
   ]
  },
  {
   "cell_type": "code",
   "execution_count": 10,
   "metadata": {
    "colab": {},
    "colab_type": "code",
    "id": "irMp9BEYH0ud"
   },
   "outputs": [
    {
     "data": {
      "text/plain": [
       "6"
      ]
     },
     "execution_count": 10,
     "metadata": {},
     "output_type": "execute_result"
    }
   ],
   "source": [
    "b"
   ]
  },
  {
   "cell_type": "code",
   "execution_count": 11,
   "metadata": {
    "colab": {},
    "colab_type": "code",
    "id": "TUTZnND_H0up"
   },
   "outputs": [
    {
     "name": "stdout",
     "output_type": "stream",
     "text": [
      "6\n"
     ]
    }
   ],
   "source": [
    "print(b)"
   ]
  },
  {
   "cell_type": "code",
   "execution_count": 12,
   "metadata": {
    "colab": {},
    "colab_type": "code",
    "id": "stbBh87OH0uw"
   },
   "outputs": [
    {
     "name": "stdout",
     "output_type": "stream",
     "text": [
      "2 12 3 4 3.0 Vous suivez ?\n"
     ]
    }
   ],
   "source": [
    "c, d = 3, 4\n",
    "b = 4*c\n",
    "print(a, b, c, d, b/4, \"Vous suivez ?\")"
   ]
  },
  {
   "cell_type": "code",
   "execution_count": 13,
   "metadata": {
    "colab": {},
    "colab_type": "code",
    "id": "hOBBV_QQH0u5"
   },
   "outputs": [
    {
     "name": "stdout",
     "output_type": "stream",
     "text": [
      "Avant :  2\n",
      "Après :  3\n"
     ]
    }
   ],
   "source": [
    "print(\"Avant : \", a)\n",
    "a += 1\n",
    "print(\"Après : \", a)"
   ]
  },
  {
   "cell_type": "code",
   "execution_count": 14,
   "metadata": {
    "colab": {},
    "colab_type": "code",
    "id": "Cu6afqmFH0vB"
   },
   "outputs": [
    {
     "name": "stdout",
     "output_type": "stream",
     "text": [
      "4\n",
      "22\n"
     ]
    }
   ],
   "source": [
    "print(2+2)\n",
    "print(\"2\"+\"2\")"
   ]
  },
  {
   "cell_type": "code",
   "execution_count": 16,
   "metadata": {
    "colab": {},
    "colab_type": "code",
    "id": "0d6Dh7LmH0vH"
   },
   "outputs": [
    {
     "ename": "TypeError",
     "evalue": "unsupported operand type(s) for +: 'int' and 'str'",
     "output_type": "error",
     "traceback": [
      "\u001b[0;31m---------------------------------------------------------------------------\u001b[0m",
      "\u001b[0;31mTypeError\u001b[0m                                 Traceback (most recent call last)",
      "\u001b[0;32m<ipython-input-16-db53bd892eed>\u001b[0m in \u001b[0;36m<module>\u001b[0;34m\u001b[0m\n\u001b[0;32m----> 1\u001b[0;31m \u001b[0mprint\u001b[0m\u001b[0;34m(\u001b[0m\u001b[0;36m2\u001b[0m\u001b[0;34m+\u001b[0m\u001b[0;34m\"2\"\u001b[0m\u001b[0;34m)\u001b[0m\u001b[0;34m\u001b[0m\u001b[0;34m\u001b[0m\u001b[0m\n\u001b[0m",
      "\u001b[0;31mTypeError\u001b[0m: unsupported operand type(s) for +: 'int' and 'str'"
     ]
    }
   ],
   "source": [
    "print(2+\"2\")"
   ]
  },
  {
   "cell_type": "markdown",
   "metadata": {
    "colab_type": "text",
    "id": "d0KS6mhdH0vN"
   },
   "source": [
    "Un type particulier (et central) : les **listes**"
   ]
  },
  {
   "cell_type": "code",
   "execution_count": 17,
   "metadata": {
    "colab": {},
    "colab_type": "code",
    "id": "HKx5S9dWH0vP"
   },
   "outputs": [
    {
     "name": "stdout",
     "output_type": "stream",
     "text": [
      "<class 'list'>\n",
      "3\n",
      "0\n",
      "Plus technique :\n",
      "2\n",
      "[0, 1]\n",
      "[1, 2]\n"
     ]
    }
   ],
   "source": [
    "li = [0, 1, 2]    # Definition d'une liste en extension\n",
    "\n",
    "print(type(li))\n",
    "print(len(li))\n",
    "print(li[0])\n",
    "\n",
    "print(\"Plus technique :\")\n",
    "print(li[-1])  # En partant de la fin\n",
    "print(li[:2])  # Un morceau contenant le début jusqu'à l'élément indexé par 2 NON inclus\n",
    "print(li[1:])  # Un morceau contenant la fin à partir de l'élément indexé par 1 inclus"
   ]
  },
  {
   "cell_type": "code",
   "execution_count": 18,
   "metadata": {
    "colab": {},
    "colab_type": "code",
    "id": "VzoIFKBkH0vU"
   },
   "outputs": [
    {
     "name": "stdout",
     "output_type": "stream",
     "text": [
      "[0, 1, 2]\n",
      "[42, 1, 2, 'éléments de différent types']\n"
     ]
    }
   ],
   "source": [
    "print(li)\n",
    "li[0] = 42\n",
    "li.append(\"éléments de différent types\")\n",
    "print(li)"
   ]
  },
  {
   "cell_type": "markdown",
   "metadata": {
    "colab_type": "text",
    "id": "r9cAzqLMH0ve"
   },
   "source": [
    "### Structures de controle\n",
    "Comme tout langage de programmation, on peut utiliser des structures de controle en python, comme des boucles ou des conditionnelles. Et comme les autres langages, cela fonctionne par blocs : qu'est-ce qui s'exécute si le *if* est vrai ? Qu'est-ce qui s'exécute de toute façon ? Qu'est-ce qui est dans la boucle ? etc.\n",
    "\n",
    "La plupart des langages de programmation que vous connaissez matérialisent les blocs par des caractères spéciaux, souvent une accolade *{* pour le commencer et une autre *}* pour le fermer. Ce n'est pas le cas de python : ce langage matérialise les blocs graphiquement, par des espaces. Il faut 4 espaces pour marquer un bloc:"
   ]
  },
  {
   "cell_type": "code",
   "execution_count": 19,
   "metadata": {
    "colab": {},
    "colab_type": "code",
    "id": "Apuv2F5DH0vi"
   },
   "outputs": [
    {
     "name": "stdout",
     "output_type": "stream",
     "text": [
      "On n'est pas dans le if\n",
      "On est dans le if\n",
      "Là encore\n",
      "Là on n'y est plus\n"
     ]
    }
   ],
   "source": [
    "print(\"On n'est pas dans le if\")     # Ceci est un commentaire\n",
    "if True:\n",
    "    print(\"On est dans le if\")\n",
    "    print(\"Là encore\")\n",
    "print(\"Là on n'y est plus\")"
   ]
  },
  {
   "cell_type": "markdown",
   "metadata": {
    "colab_type": "text",
    "id": "Jh7HcIYpH0vp"
   },
   "source": [
    "Et c'est pareil pour les boucles:"
   ]
  },
  {
   "cell_type": "code",
   "execution_count": 20,
   "metadata": {
    "colab": {},
    "colab_type": "code",
    "id": "ws6gZyCrH0vq"
   },
   "outputs": [
    {
     "name": "stdout",
     "output_type": "stream",
     "text": [
      "Avant la boucle\n",
      "Tour de boucle numéro 0\n",
      "Tour de boucle numéro 1\n",
      "Tour de boucle numéro 2\n",
      "Tour de boucle numéro 3\n",
      "Tour de boucle numéro 4\n",
      "Tour de boucle numéro 5\n",
      "Tour de boucle numéro 6\n",
      "Tour de boucle numéro 7\n",
      "Tour de boucle numéro 8\n",
      "Tour de boucle numéro 9\n",
      "Tour de boucle numéro 10\n",
      "Après la boucle\n"
     ]
    }
   ],
   "source": [
    "print(\"Avant la boucle\")\n",
    "for i in range(0, 11):\n",
    "    print(\"Tour de boucle numéro\", i)\n",
    "print(\"Après la boucle\")"
   ]
  },
  {
   "cell_type": "markdown",
   "metadata": {
    "colab_type": "text",
    "id": "vX6wRT3jH0v2"
   },
   "source": [
    "##### Boucle et liste\n",
    "On peut remplir des listes avec des boucles:"
   ]
  },
  {
   "cell_type": "code",
   "execution_count": 21,
   "metadata": {
    "colab": {},
    "colab_type": "code",
    "id": "xMuf3fqjH0v3"
   },
   "outputs": [
    {
     "name": "stdout",
     "output_type": "stream",
     "text": [
      "[0, 1, 2, 3, 4, 5, 6, 7, 8, 9]\n"
     ]
    }
   ],
   "source": [
    "li = []\n",
    "for i in range(10):\n",
    "    li.append(i)\n",
    "print(li)"
   ]
  },
  {
   "cell_type": "markdown",
   "metadata": {
    "colab_type": "text",
    "id": "FEob5PvDH0v-"
   },
   "source": [
    "(Mais en fait on n'a même pas besoin de boucle explicite !!!!!) :"
   ]
  },
  {
   "cell_type": "code",
   "execution_count": 22,
   "metadata": {
    "colab": {},
    "colab_type": "code",
    "id": "iFf_JCXUH0wC"
   },
   "outputs": [
    {
     "name": "stdout",
     "output_type": "stream",
     "text": [
      "[0, 2, 4, 6, 8, 10, 12, 14, 16, 18]\n"
     ]
    }
   ],
   "source": [
    "li = [i*2 for i in range(10)]\n",
    "print(li)"
   ]
  },
  {
   "cell_type": "markdown",
   "metadata": {
    "colab_type": "text",
    "id": "UwxQAlndH0wL"
   },
   "source": [
    "##### Combinaison\n",
    "Bien entendu, c'est récursif : on peut mettre des blocs dans des blocs qui contiennent des blocks, etc.\n",
    "\n",
    "**Question** Alors, que fait le code ci-dessous ? Que valent a et b à la fin ? "
   ]
  },
  {
   "cell_type": "code",
   "execution_count": 39,
   "metadata": {
    "colab": {},
    "colab_type": "code",
    "id": "fHOiyJpwH0wN"
   },
   "outputs": [],
   "source": [
    "a, b = 0, 0\n",
    "for i in range(10):\n",
    "    if a % 2 == 0:\n",
    "        a+=i\n",
    "        if b < 5:\n",
    "            a-=i\n",
    "        else:\n",
    "            b+=i\n",
    "    else:\n",
    "        b-=i\n"
   ]
  },
  {
   "cell_type": "markdown",
   "metadata": {},
   "source": [
    "### Reponse\n",
    "\n",
    "La variable a parcours les 10 premiers entieres et redevient 0 apres chaque iteration. Dans b sont stocker leurs valeurs negatifs. \n",
    "Les valeurs de a et b à la fin sont 0 et 0 "
   ]
  },
  {
   "cell_type": "markdown",
   "metadata": {
    "colab_type": "text",
    "id": "fW4gf7YnH0wY"
   },
   "source": [
    "#### A vous !\n",
    "**Question** Insérez 1 cellule ci-dessous (cliquez ici puis utilisez le menu du haut...). Puis écrivez y le code qui calcule et affiche la somme des 10 premiers entiers au carré."
   ]
  },
  {
   "cell_type": "code",
   "execution_count": 41,
   "metadata": {},
   "outputs": [
    {
     "name": "stdout",
     "output_type": "stream",
     "text": [
      "285\n"
     ]
    }
   ],
   "source": [
    "somme = 0\n",
    "\n",
    "for i in range(10):\n",
    "    somme +=i**2\n",
    "\n",
    "print(somme)"
   ]
  },
  {
   "cell_type": "markdown",
   "metadata": {
    "colab_type": "text",
    "id": "Db5MLZ_TH0wZ"
   },
   "source": [
    "**Question** Dans la cellule suivante, écrire un code comprenant 1 boucle et 1 conditionelle qui tire un nombre au hasard entre 1 et 100 et qui laisse 10 chances à l'utilisateur pour trouver ce nombre. On utilisera une bibliothèque (on dit *module* en python) qui génère des nombres aléatoires en l'important:"
   ]
  },
  {
   "cell_type": "code",
   "execution_count": 114,
   "metadata": {
    "colab": {},
    "colab_type": "code",
    "id": "wi2Qfar_H0wa"
   },
   "outputs": [
    {
     "name": "stdout",
     "output_type": "stream",
     "text": [
      "Entrer un nombre: 1\n",
      "Desolé\n",
      "Entrer un nombre: 2\n",
      "Desolé\n",
      "Entrer un nombre: 3\n",
      "Desolé\n",
      "Entrer un nombre: 4\n",
      "Desolé\n",
      "Entrer un nombre: 5\n",
      "Desolé\n",
      "Entrer un nombre: 6\n",
      "Desolé\n",
      "Entrer un nombre: 7\n",
      "Desolé\n",
      "Entrer un nombre: 8\n",
      "Desolé\n",
      "Entrer un nombre: 9\n",
      "Desolé\n",
      "Entrer un nombre: 10\n",
      "Desolé\n",
      "15 10\n"
     ]
    }
   ],
   "source": [
    "import random   # On importe la librairie\n",
    "a_trouver = random.randint(0,100)    # On on génère alétoirement un nombre\n",
    "\n",
    "for i in range(10):  # On commence la boocle 10 chances\n",
    "    mon_nombre = input(\"Entrer un nombre: \") # On demande à rentrer un nombre\n",
    "    if a_trouver == mon_nombre:   # si on trouve\n",
    "        print(\"Bien joué\")        # c'est fini\n",
    "        break\n",
    "    else:                         # sinon rejouer jusqau 10\n",
    "        print(\"Desolé\")\n",
    "    \n",
    "print(a_trouver, mon_nombre)\n",
    "# A vous de jouer !"
   ]
  },
  {
   "cell_type": "markdown",
   "metadata": {
    "colab_type": "text",
    "id": "QQ5qhjrkH0wi"
   },
   "source": [
    "### Fonctions\n",
    "Bien entendu, il est possible de définir et d'utiliser des fonctions en python:"
   ]
  },
  {
   "cell_type": "code",
   "execution_count": 42,
   "metadata": {
    "colab": {},
    "colab_type": "code",
    "id": "jLKlsxU9H0wj"
   },
   "outputs": [],
   "source": [
    "def carre(x):\n",
    "    return x*x"
   ]
  },
  {
   "cell_type": "code",
   "execution_count": 43,
   "metadata": {
    "colab": {},
    "colab_type": "code",
    "id": "K7BKTsPvH0wr"
   },
   "outputs": [
    {
     "data": {
      "text/plain": [
       "4"
      ]
     },
     "execution_count": 43,
     "metadata": {},
     "output_type": "execute_result"
    }
   ],
   "source": [
    "carre(2)"
   ]
  },
  {
   "cell_type": "markdown",
   "metadata": {
    "colab_type": "text",
    "id": "6irEAB32H0wv"
   },
   "source": [
    "Et on peut même renvoyer plusieurs valeurs:"
   ]
  },
  {
   "cell_type": "code",
   "execution_count": 44,
   "metadata": {
    "colab": {},
    "colab_type": "code",
    "id": "Fu0XSRNzH0wx"
   },
   "outputs": [
    {
     "name": "stdout",
     "output_type": "stream",
     "text": [
      "(6, 7, 8)\n",
      "7\n"
     ]
    }
   ],
   "source": [
    "def trois_suivants(x):\n",
    "    return (x+1, x+2, x+3)\n",
    "S = trois_suivants(5)\n",
    "print(S)\n",
    "print(S[1])"
   ]
  },
  {
   "cell_type": "markdown",
   "metadata": {
    "colab_type": "text",
    "id": "09xb5GHBH0w6"
   },
   "source": [
    "Attention, un tuple (comme le triplet que retourne cette fonction) n'est pas mutable: il contient une ou des valeurs qui ne sont pas modifiables. "
   ]
  },
  {
   "cell_type": "code",
   "execution_count": 45,
   "metadata": {
    "colab": {},
    "colab_type": "code",
    "id": "UftmCrHPH0w7"
   },
   "outputs": [
    {
     "ename": "TypeError",
     "evalue": "'tuple' object does not support item assignment",
     "output_type": "error",
     "traceback": [
      "\u001b[0;31m---------------------------------------------------------------------------\u001b[0m",
      "\u001b[0;31mTypeError\u001b[0m                                 Traceback (most recent call last)",
      "\u001b[0;32m<ipython-input-45-3b221297ced0>\u001b[0m in \u001b[0;36m<module>\u001b[0;34m\u001b[0m\n\u001b[0;32m----> 1\u001b[0;31m \u001b[0mS\u001b[0m\u001b[0;34m[\u001b[0m\u001b[0;36m1\u001b[0m\u001b[0;34m]\u001b[0m\u001b[0;34m=\u001b[0m\u001b[0;36m3\u001b[0m   \u001b[0;31m# Ceci va donc donner un erreur !\u001b[0m\u001b[0;34m\u001b[0m\u001b[0;34m\u001b[0m\u001b[0m\n\u001b[0m",
      "\u001b[0;31mTypeError\u001b[0m: 'tuple' object does not support item assignment"
     ]
    }
   ],
   "source": [
    "S[1]=3   # Ceci va donc donner un erreur !"
   ]
  },
  {
   "cell_type": "markdown",
   "metadata": {
    "colab_type": "text",
    "id": "7W_gAjnNH0xG"
   },
   "source": [
    "Si vous voulez modifier les valeurs, il faut faire une liste:"
   ]
  },
  {
   "cell_type": "code",
   "execution_count": 46,
   "metadata": {
    "colab": {},
    "colab_type": "code",
    "id": "bIhbEqbvH0xH"
   },
   "outputs": [
    {
     "name": "stdout",
     "output_type": "stream",
     "text": [
      "[6, 7, 8]\n",
      "[6, 3, 8]\n",
      "(6, 7, 8)\n"
     ]
    }
   ],
   "source": [
    "L = list(S)\n",
    "print(L)\n",
    "L[1] = 3\n",
    "print(L)\n",
    "print(S)"
   ]
  },
  {
   "cell_type": "markdown",
   "metadata": {
    "colab_type": "text",
    "id": "BOesqxEpH0xK"
   },
   "source": [
    "Ou alors, vous récuperez les valeurs de la fonction dans des variables séparées :"
   ]
  },
  {
   "cell_type": "code",
   "execution_count": 47,
   "metadata": {
    "colab": {},
    "colab_type": "code",
    "id": "6NRZCj-5H0xL"
   },
   "outputs": [
    {
     "name": "stdout",
     "output_type": "stream",
     "text": [
      "43 44 45\n",
      "24\n"
     ]
    }
   ],
   "source": [
    "x_1, x_2, x_3 = trois_suivants(42)\n",
    "print(x_1, x_2, x_3)\n",
    "x_1 = 24\n",
    "print(x_1)"
   ]
  },
  {
   "cell_type": "markdown",
   "metadata": {
    "colab_type": "text",
    "id": "FMjdW9AqH0xN"
   },
   "source": [
    "## Scikit-Learn\n",
    "Scikit-learn est un logiciel écrit en Python, qui nécessite l'installation préalable du langage  Python et des librairies  *NumPy* et  *SciPy* (pour le calcul scientifique), dans des versions qui doivent vérifier certaines contraintes de compatibilité. Sur votre machine personnelle, le plus simple est d'installer une distribution de Python complète, comme Anaconda (https://docs.anaconda.com/anaconda/install/), qui comprend la plupart des librairies courantes développées en Python, dont les trois citées plus haut. Sur les PC de la salle, tout est normalement installé...\n",
    "\n",
    "Le site officiel du logiciel  Scikit-learn est :  http://scikit-learn.org/stable/index.html \n",
    "\n",
    "La documentation en ligne est complète, et devra être consultée chaque fois que nécessaire :\n",
    " \thttp://scikit-learn.org/stable/documentation.html \n",
    "    \n",
    "Des tutoriaux sont disponibles a l'adresse suivante :\n",
    " \thttp://scikit-learn.org/stable/tutorial/index.html\n",
    "\n",
    "### Jeux de données en Scikit-Learn\n",
    "\n",
    "Un certain nombre de jeux de données sont disponibles dans scikit-learn. Il est également possible de générer des données artificielles ou de récupérer des données externes (on fera ça dans les prochains TPs).\n",
    "\n",
    "Documentation relative au chargement de jeux de données :\n",
    "\thttp://scikit-learn.org/stable/datasets/ \n",
    "\n",
    "Les jeux de données disponibles dans scikit-learn sont : iris, boston, diabetes, digits, linnerud, sample images, 20newsgroups.\n",
    "Chacun de ces jeux de données se récupère à l'aide de la commande load_nom-jeu qu'il faut dans un premier temps charger. Par exemple, pour récupérer le jeu iris :"
   ]
  },
  {
   "cell_type": "code",
   "execution_count": 48,
   "metadata": {
    "colab": {},
    "colab_type": "code",
    "id": "KGE3DxB1H0xO"
   },
   "outputs": [],
   "source": [
    "from sklearn.datasets import load_iris  #importation de la commande\n",
    "irisData = load_iris()"
   ]
  },
  {
   "cell_type": "markdown",
   "metadata": {
    "colab_type": "text",
    "id": "qhM6j0I2H0xQ"
   },
   "source": [
    "On se retrouve alors avec une variable qui contient le jeu de données (ici on l'a appelé *irisData*)\n",
    "\n",
    "Les variables des jeux de données comprennent un certain nombres d'attributs parmi (tous ne sont pas toujours définis) : data, target, target_names, feature_names, DESCR :\n",
    "- *.data* est un tableau de dimensions *(n,m)*. Chacune des *n* lignes correspond à une donnée, chacune des *m* colonnes à un attribut \n",
    "- *.target* stocke les classes (étiquettes/label) de chaque instance (dans le cas supervisé) : c'est un vecteur de taille *n* dont la première valeur est la classe de la donnée de la première ligne de la matrice .data, la deuxième valeur est la classe de la deuxième ligne, etc.\n",
    "- *.target_names* contient le nom des classes\n",
    "- *.feature_names* contient le nom des attributs\n",
    "- *.DESCR* est un texte décrivant le jeu de données."
   ]
  },
  {
   "cell_type": "code",
   "execution_count": 49,
   "metadata": {
    "colab": {},
    "colab_type": "code",
    "id": "TdZWSqHiH0xT"
   },
   "outputs": [
    {
     "data": {
      "text/plain": [
       "array([[5.1, 3.5, 1.4, 0.2],\n",
       "       [4.9, 3. , 1.4, 0.2],\n",
       "       [4.7, 3.2, 1.3, 0.2],\n",
       "       [4.6, 3.1, 1.5, 0.2],\n",
       "       [5. , 3.6, 1.4, 0.2],\n",
       "       [5.4, 3.9, 1.7, 0.4],\n",
       "       [4.6, 3.4, 1.4, 0.3],\n",
       "       [5. , 3.4, 1.5, 0.2],\n",
       "       [4.4, 2.9, 1.4, 0.2],\n",
       "       [4.9, 3.1, 1.5, 0.1],\n",
       "       [5.4, 3.7, 1.5, 0.2],\n",
       "       [4.8, 3.4, 1.6, 0.2],\n",
       "       [4.8, 3. , 1.4, 0.1],\n",
       "       [4.3, 3. , 1.1, 0.1],\n",
       "       [5.8, 4. , 1.2, 0.2],\n",
       "       [5.7, 4.4, 1.5, 0.4],\n",
       "       [5.4, 3.9, 1.3, 0.4],\n",
       "       [5.1, 3.5, 1.4, 0.3],\n",
       "       [5.7, 3.8, 1.7, 0.3],\n",
       "       [5.1, 3.8, 1.5, 0.3],\n",
       "       [5.4, 3.4, 1.7, 0.2],\n",
       "       [5.1, 3.7, 1.5, 0.4],\n",
       "       [4.6, 3.6, 1. , 0.2],\n",
       "       [5.1, 3.3, 1.7, 0.5],\n",
       "       [4.8, 3.4, 1.9, 0.2],\n",
       "       [5. , 3. , 1.6, 0.2],\n",
       "       [5. , 3.4, 1.6, 0.4],\n",
       "       [5.2, 3.5, 1.5, 0.2],\n",
       "       [5.2, 3.4, 1.4, 0.2],\n",
       "       [4.7, 3.2, 1.6, 0.2],\n",
       "       [4.8, 3.1, 1.6, 0.2],\n",
       "       [5.4, 3.4, 1.5, 0.4],\n",
       "       [5.2, 4.1, 1.5, 0.1],\n",
       "       [5.5, 4.2, 1.4, 0.2],\n",
       "       [4.9, 3.1, 1.5, 0.2],\n",
       "       [5. , 3.2, 1.2, 0.2],\n",
       "       [5.5, 3.5, 1.3, 0.2],\n",
       "       [4.9, 3.6, 1.4, 0.1],\n",
       "       [4.4, 3. , 1.3, 0.2],\n",
       "       [5.1, 3.4, 1.5, 0.2],\n",
       "       [5. , 3.5, 1.3, 0.3],\n",
       "       [4.5, 2.3, 1.3, 0.3],\n",
       "       [4.4, 3.2, 1.3, 0.2],\n",
       "       [5. , 3.5, 1.6, 0.6],\n",
       "       [5.1, 3.8, 1.9, 0.4],\n",
       "       [4.8, 3. , 1.4, 0.3],\n",
       "       [5.1, 3.8, 1.6, 0.2],\n",
       "       [4.6, 3.2, 1.4, 0.2],\n",
       "       [5.3, 3.7, 1.5, 0.2],\n",
       "       [5. , 3.3, 1.4, 0.2],\n",
       "       [7. , 3.2, 4.7, 1.4],\n",
       "       [6.4, 3.2, 4.5, 1.5],\n",
       "       [6.9, 3.1, 4.9, 1.5],\n",
       "       [5.5, 2.3, 4. , 1.3],\n",
       "       [6.5, 2.8, 4.6, 1.5],\n",
       "       [5.7, 2.8, 4.5, 1.3],\n",
       "       [6.3, 3.3, 4.7, 1.6],\n",
       "       [4.9, 2.4, 3.3, 1. ],\n",
       "       [6.6, 2.9, 4.6, 1.3],\n",
       "       [5.2, 2.7, 3.9, 1.4],\n",
       "       [5. , 2. , 3.5, 1. ],\n",
       "       [5.9, 3. , 4.2, 1.5],\n",
       "       [6. , 2.2, 4. , 1. ],\n",
       "       [6.1, 2.9, 4.7, 1.4],\n",
       "       [5.6, 2.9, 3.6, 1.3],\n",
       "       [6.7, 3.1, 4.4, 1.4],\n",
       "       [5.6, 3. , 4.5, 1.5],\n",
       "       [5.8, 2.7, 4.1, 1. ],\n",
       "       [6.2, 2.2, 4.5, 1.5],\n",
       "       [5.6, 2.5, 3.9, 1.1],\n",
       "       [5.9, 3.2, 4.8, 1.8],\n",
       "       [6.1, 2.8, 4. , 1.3],\n",
       "       [6.3, 2.5, 4.9, 1.5],\n",
       "       [6.1, 2.8, 4.7, 1.2],\n",
       "       [6.4, 2.9, 4.3, 1.3],\n",
       "       [6.6, 3. , 4.4, 1.4],\n",
       "       [6.8, 2.8, 4.8, 1.4],\n",
       "       [6.7, 3. , 5. , 1.7],\n",
       "       [6. , 2.9, 4.5, 1.5],\n",
       "       [5.7, 2.6, 3.5, 1. ],\n",
       "       [5.5, 2.4, 3.8, 1.1],\n",
       "       [5.5, 2.4, 3.7, 1. ],\n",
       "       [5.8, 2.7, 3.9, 1.2],\n",
       "       [6. , 2.7, 5.1, 1.6],\n",
       "       [5.4, 3. , 4.5, 1.5],\n",
       "       [6. , 3.4, 4.5, 1.6],\n",
       "       [6.7, 3.1, 4.7, 1.5],\n",
       "       [6.3, 2.3, 4.4, 1.3],\n",
       "       [5.6, 3. , 4.1, 1.3],\n",
       "       [5.5, 2.5, 4. , 1.3],\n",
       "       [5.5, 2.6, 4.4, 1.2],\n",
       "       [6.1, 3. , 4.6, 1.4],\n",
       "       [5.8, 2.6, 4. , 1.2],\n",
       "       [5. , 2.3, 3.3, 1. ],\n",
       "       [5.6, 2.7, 4.2, 1.3],\n",
       "       [5.7, 3. , 4.2, 1.2],\n",
       "       [5.7, 2.9, 4.2, 1.3],\n",
       "       [6.2, 2.9, 4.3, 1.3],\n",
       "       [5.1, 2.5, 3. , 1.1],\n",
       "       [5.7, 2.8, 4.1, 1.3],\n",
       "       [6.3, 3.3, 6. , 2.5],\n",
       "       [5.8, 2.7, 5.1, 1.9],\n",
       "       [7.1, 3. , 5.9, 2.1],\n",
       "       [6.3, 2.9, 5.6, 1.8],\n",
       "       [6.5, 3. , 5.8, 2.2],\n",
       "       [7.6, 3. , 6.6, 2.1],\n",
       "       [4.9, 2.5, 4.5, 1.7],\n",
       "       [7.3, 2.9, 6.3, 1.8],\n",
       "       [6.7, 2.5, 5.8, 1.8],\n",
       "       [7.2, 3.6, 6.1, 2.5],\n",
       "       [6.5, 3.2, 5.1, 2. ],\n",
       "       [6.4, 2.7, 5.3, 1.9],\n",
       "       [6.8, 3. , 5.5, 2.1],\n",
       "       [5.7, 2.5, 5. , 2. ],\n",
       "       [5.8, 2.8, 5.1, 2.4],\n",
       "       [6.4, 3.2, 5.3, 2.3],\n",
       "       [6.5, 3. , 5.5, 1.8],\n",
       "       [7.7, 3.8, 6.7, 2.2],\n",
       "       [7.7, 2.6, 6.9, 2.3],\n",
       "       [6. , 2.2, 5. , 1.5],\n",
       "       [6.9, 3.2, 5.7, 2.3],\n",
       "       [5.6, 2.8, 4.9, 2. ],\n",
       "       [7.7, 2.8, 6.7, 2. ],\n",
       "       [6.3, 2.7, 4.9, 1.8],\n",
       "       [6.7, 3.3, 5.7, 2.1],\n",
       "       [7.2, 3.2, 6. , 1.8],\n",
       "       [6.2, 2.8, 4.8, 1.8],\n",
       "       [6.1, 3. , 4.9, 1.8],\n",
       "       [6.4, 2.8, 5.6, 2.1],\n",
       "       [7.2, 3. , 5.8, 1.6],\n",
       "       [7.4, 2.8, 6.1, 1.9],\n",
       "       [7.9, 3.8, 6.4, 2. ],\n",
       "       [6.4, 2.8, 5.6, 2.2],\n",
       "       [6.3, 2.8, 5.1, 1.5],\n",
       "       [6.1, 2.6, 5.6, 1.4],\n",
       "       [7.7, 3. , 6.1, 2.3],\n",
       "       [6.3, 3.4, 5.6, 2.4],\n",
       "       [6.4, 3.1, 5.5, 1.8],\n",
       "       [6. , 3. , 4.8, 1.8],\n",
       "       [6.9, 3.1, 5.4, 2.1],\n",
       "       [6.7, 3.1, 5.6, 2.4],\n",
       "       [6.9, 3.1, 5.1, 2.3],\n",
       "       [5.8, 2.7, 5.1, 1.9],\n",
       "       [6.8, 3.2, 5.9, 2.3],\n",
       "       [6.7, 3.3, 5.7, 2.5],\n",
       "       [6.7, 3. , 5.2, 2.3],\n",
       "       [6.3, 2.5, 5. , 1.9],\n",
       "       [6.5, 3. , 5.2, 2. ],\n",
       "       [6.2, 3.4, 5.4, 2.3],\n",
       "       [5.9, 3. , 5.1, 1.8]])"
      ]
     },
     "execution_count": 49,
     "metadata": {},
     "output_type": "execute_result"
    }
   ],
   "source": [
    "irisData.data"
   ]
  },
  {
   "cell_type": "code",
   "execution_count": 50,
   "metadata": {
    "colab": {},
    "colab_type": "code",
    "id": "OXkitLY6H0xU"
   },
   "outputs": [
    {
     "data": {
      "text/plain": [
       "array([0, 0, 0, 0, 0, 0, 0, 0, 0, 0, 0, 0, 0, 0, 0, 0, 0, 0, 0, 0, 0, 0,\n",
       "       0, 0, 0, 0, 0, 0, 0, 0, 0, 0, 0, 0, 0, 0, 0, 0, 0, 0, 0, 0, 0, 0,\n",
       "       0, 0, 0, 0, 0, 0, 1, 1, 1, 1, 1, 1, 1, 1, 1, 1, 1, 1, 1, 1, 1, 1,\n",
       "       1, 1, 1, 1, 1, 1, 1, 1, 1, 1, 1, 1, 1, 1, 1, 1, 1, 1, 1, 1, 1, 1,\n",
       "       1, 1, 1, 1, 1, 1, 1, 1, 1, 1, 1, 1, 2, 2, 2, 2, 2, 2, 2, 2, 2, 2,\n",
       "       2, 2, 2, 2, 2, 2, 2, 2, 2, 2, 2, 2, 2, 2, 2, 2, 2, 2, 2, 2, 2, 2,\n",
       "       2, 2, 2, 2, 2, 2, 2, 2, 2, 2, 2, 2, 2, 2, 2, 2, 2, 2])"
      ]
     },
     "execution_count": 50,
     "metadata": {},
     "output_type": "execute_result"
    }
   ],
   "source": [
    "irisData.target"
   ]
  },
  {
   "cell_type": "code",
   "execution_count": 51,
   "metadata": {
    "colab": {},
    "colab_type": "code",
    "id": "ZwU_r-XwH0xZ"
   },
   "outputs": [
    {
     "data": {
      "text/plain": [
       "array(['setosa', 'versicolor', 'virginica'], dtype='<U10')"
      ]
     },
     "execution_count": 51,
     "metadata": {},
     "output_type": "execute_result"
    }
   ],
   "source": [
    "irisData.target_names"
   ]
  },
  {
   "cell_type": "markdown",
   "metadata": {
    "colab_type": "text",
    "id": "G0IU_jmpH0xc"
   },
   "source": [
    "Noter que le type de tous ces éléments est *array*, un type très utile et central en python pour nous (en fait, le vrai type est s'appelle *ndarray* qui est un type propre à numpy : faites type(irisData.target) par exemple pour vous en assurer : il ne faut pas toujours croire ce que le notebook affiche !)"
   ]
  },
  {
   "cell_type": "markdown",
   "metadata": {
    "colab_type": "text",
    "id": "Safe4zN-H0xd"
   },
   "source": [
    "##### Le jeu de données Iris (Fisher, 1936)\n",
    "Iris est un ensemble (=jeu) de données introduit en 1936 par R. Fisher comme un exemple d'analyse discriminante. Cet ensemble contient 150 exemples de critères observés sur 3 espèces différentes d'iris de Gaspésie (Setosa, Versicolor, Verginica). Chaque exemple est composé de quatre attributs (longueur et largeur des sépales en cm, longueur et largeur des pétales en cm) et d'une classe (l'espèce).\n",
    "\n",
    "**Question.** Exécutez **une à une** les commandes suivantes et comprenez ce qu'elles réalisent (vous aurez à les réutiliser)."
   ]
  },
  {
   "cell_type": "code",
   "execution_count": 53,
   "metadata": {
    "colab": {},
    "colab_type": "code",
    "id": "FHIaHRZKH0xi"
   },
   "outputs": [
    {
     "data": {
      "text/plain": [
       "array([4.9, 3. , 1.4, 0.2])"
      ]
     },
     "execution_count": 53,
     "metadata": {},
     "output_type": "execute_result"
    }
   ],
   "source": [
    "len(irisData.data)     # nombre de data points\n",
    "irisData.target_names[0]  # premiere etiquette\n",
    "irisData.target_names[2]  # troisieme etiquette\n",
    "irisData.target_names[-1] # last etiquette / troisieme dans ce cas\n",
    "irisData.target_names[len(irisData.target_names)-1]  # listes_etiquettes[Nombre des etiquettes] donc mauvais indice\n",
    "irisData.data.shape   #dimension de jeu de donne (nombre des element* nombre des attribus)\n",
    "irisData.data[0]      # premier data point\n",
    "irisData.data[0][1]   # affiche la valeur du deuxieme element du premier data pointt\n",
    "irisData.data[:,1]    # Affiche la deuxieme colonne\n",
    "irisData.data[irisData.target==0]    # Tout le data points qui ont l'etiquette 0 - setosa\n",
    "irisData.data[:][1]  # Slicing est different de indexing\n",
    "                     # tous les valeurs du deuxieme data point"
   ]
  },
  {
   "cell_type": "markdown",
   "metadata": {
    "colab_type": "text",
    "id": "0yI3SusIH0xn"
   },
   "source": [
    "Vous avez eu une erreur ? Pourquoi ? Refléchissez...\n",
    "\n",
    "Et assurez vous de tester toutes les lignes, quite à créer de nouvelles cellules (ou à mettre en commentaire les lignes déjà testées, ou qui génèrent des erreurs)"
   ]
  },
  {
   "cell_type": "markdown",
   "metadata": {},
   "source": [
    "### Reponse\n",
    "\n",
    "irisData.target_names[len(irisData.target_names)]  \n",
    "la ligne marche pas. les indices a python sont [0,..N-1]. Ici on demande le Neme indice du coup le n+1 element.\n",
    "On repare le code pour affice le dernier element\n",
    "\n"
   ]
  },
  {
   "cell_type": "markdown",
   "metadata": {
    "colab_type": "text",
    "id": "SEFjsCJUH0xo"
   },
   "source": [
    "##### Visualiser les données\n",
    "Scikit-Learn  intègre la librairie matplotlib  (http://matplotlib.org/) qui propose de très nombreuses primitives permettant de faire des dessins, et la librairie pylab, qui intègre les librairies NumPy, SciPy  et Matplotlib .\n",
    "\n",
    "Exécutez les commandes suivantes et comprenez ce qu'elles réalisent :"
   ]
  },
  {
   "cell_type": "code",
   "execution_count": 72,
   "metadata": {
    "colab": {},
    "colab_type": "code",
    "id": "6DGx0G1SH0xq"
   },
   "outputs": [
    {
     "data": {
      "image/png": "[encoded data removed]",
      "text/plain": [
       "<Figure size 432x288 with 1 Axes>"
      ]
     },
     "metadata": {
      "needs_background": "light"
     },
     "output_type": "display_data"
    }
   ],
   "source": [
    "%matplotlib inline    \n",
    "import matplotlib.pyplot as plt        #permet d'importer 'pyplot' et de remplacer son nom par 'plt'\n",
    "X = irisData.data                     # on importe les donnes a une variable de array\n",
    "Color = irisData.target             # on cree un cmap ou chaque etiquette a un different couleur\n",
    "abscisse = 0 \n",
    "ordonnee = 1\n",
    "\n",
    "plt.scatter(X[:, abscisse], X[:, ordonnee], c=Color)   # Définition des abscisses et des ordonnées, ainsi que de la couleur\n",
    "plt.show()    # Affichage de la courbe"
   ]
  },
  {
   "cell_type": "markdown",
   "metadata": {
    "colab_type": "text",
    "id": "knCEqH8DH0x1"
   },
   "source": [
    "C'est bien mais pas super : il manque de l'information pour être une vraie courbe. On améliore :"
   ]
  },
  {
   "cell_type": "code",
   "execution_count": 73,
   "metadata": {
    "colab": {},
    "colab_type": "code",
    "id": "MieZPNfeH0x2"
   },
   "outputs": [
    {
     "data": {
      "image/png": "[encoded data removed]",
      "text/plain": [
       "<Figure size 432x288 with 1 Axes>"
      ]
     },
     "metadata": {
      "needs_background": "light"
     },
     "output_type": "display_data"
    }
   ],
   "source": [
    "plt.xlabel(irisData.feature_names[abscisse])    # Nomage de l'axe des abscisses\n",
    "plt.ylabel(irisData.feature_names[ordonnee])    # Nomage de l'axe des ordonnées   \n",
    "plt.title(\"Données Iris - Dimensions des sépales uniquement\") # Et il faut un tritre\n",
    "\n",
    "plt.scatter(X[:, abscisse], X[:, ordonnee], c=Color)   # Re-éfinition des abscisses, ordonnées, et couleurs\n",
    "plt.show()\n"
   ]
  },
  {
   "cell_type": "markdown",
   "metadata": {
    "colab_type": "text",
    "id": "LyVDdnW1H0x8"
   },
   "source": [
    "ça commence à ressembler à quelque chose, non ? Reste 2 petits problèmes : il manque la légende pour expliquer le code couleur, et les couleurs ne sont pas très belles (ça c'est une question de goût, mais quand même). Voilà un façon (un peu différente) d'y remédier :"
   ]
  },
  {
   "cell_type": "code",
   "execution_count": 74,
   "metadata": {
    "colab": {},
    "colab_type": "code",
    "id": "u-7semNOH0x9"
   },
   "outputs": [
    {
     "data": {
      "image/png": "[encoded data removed]",
      "text/plain": [
       "<Figure size 432x288 with 1 Axes>"
      ]
     },
     "metadata": {
      "needs_background": "light"
     },
     "output_type": "display_data"
    }
   ],
   "source": [
    "y = irisData.target\n",
    "colors=[\"red\",\"green\",\"blue\"]\n",
    "differentes_target = set(irisData.target)    # Enlève les doublons\n",
    "for i in differentes_target:\n",
    "\tplt.scatter(X[y==i][:, abscisse],X[y==i][:,ordonnee],color=colors[i], label=irisData.target_names[i])\n",
    "plt.legend()\n",
    "plt.xlabel(irisData.feature_names[abscisse])\n",
    "plt.ylabel(irisData.feature_names[ordonnee])\n",
    "plt.title(\"Données Iris - dimensions des sépales uniquement\")\n",
    "plt.show()"
   ]
  },
  {
   "cell_type": "markdown",
   "metadata": {
    "colab_type": "text",
    "id": "PHKRGAP0H0yB"
   },
   "source": [
    "**Question.** Les données iris sont décrites par 4 attributs. Il y a 6 en 2 dimensions manières d'en regarder 2. En modifiant le code ci-dessus, déterminez visuellement le couple d'attributs qui semble le mieux a même de séparer clairement les exemples des 3 classes d'iris."
   ]
  },
  {
   "cell_type": "markdown",
   "metadata": {},
   "source": [
    "**Reponse**\n",
    "Apres avoir experiementer avec les 4 attribues[sepal length (cm) ,sepal width (cm),petal length (cm),petal width (cm)'] je propose utiliser les features  petal and sepal length. Maintenant on peut trouver un hyperplane pour diviser les trois categories"
   ]
  },
  {
   "cell_type": "code",
   "execution_count": 80,
   "metadata": {},
   "outputs": [
    {
     "data": {
      "text/plain": [
       "['sepal length (cm)',\n",
       " 'sepal width (cm)',\n",
       " 'petal length (cm)',\n",
       " 'petal width (cm)']"
      ]
     },
     "execution_count": 80,
     "metadata": {},
     "output_type": "execute_result"
    }
   ],
   "source": [
    "irisData.feature_names"
   ]
  },
  {
   "cell_type": "code",
   "execution_count": 84,
   "metadata": {
    "colab": {},
    "colab_type": "code",
    "id": "nDRnfz_vH0yD"
   },
   "outputs": [
    {
     "data": {
      "image/png": "[encoded data removed]",
      "text/plain": [
       "<Figure size 432x288 with 1 Axes>"
      ]
     },
     "metadata": {
      "needs_background": "light"
     },
     "output_type": "display_data"
    }
   ],
   "source": [
    "abscisse = 0\n",
    "ordonnee = 2\n",
    "y = irisData.target\n",
    "colors=[\"red\",\"green\",\"blue\"]\n",
    "differentes_target = set(irisData.target)    # Enlève les doublons\n",
    "for i in differentes_target:\n",
    "\tplt.scatter(X[y==i][:, abscisse],X[y==i][:,ordonnee],color=colors[i], label=irisData.target_names[i])\n",
    "plt.legend()\n",
    "plt.xlabel(irisData.feature_names[abscisse])\n",
    "plt.ylabel(irisData.feature_names[ordonnee])\n",
    "plt.title(\"Données Iris - dimensions des sépales uniquement\")\n",
    "plt.show()"
   ]
  },
  {
   "cell_type": "markdown",
   "metadata": {
    "colab_type": "text",
    "id": "tIRdxF14H0yF"
   },
   "source": [
    "##### Extraire des statistiques des données\n",
    "Un autre type de données est très utile : les dictionnaires. Alors qu'une liste est indéxée par des entiers positifs, un dictionnaire peut être indexé par (presque) tout :"
   ]
  },
  {
   "cell_type": "code",
   "execution_count": 85,
   "metadata": {
    "colab": {},
    "colab_type": "code",
    "id": "nkHo1lzjH0yH"
   },
   "outputs": [
    {
     "name": "stdout",
     "output_type": "stream",
     "text": [
      "['Ready Player One', 'Magnolia']\n",
      "Les clés :  dict_keys(['film', 'duree', 42])\n",
      "Les valeurs :  dict_values([['Ready Player One', 'Magnolia'], [120, 90], ['et', 'oui']])\n",
      "A la fin :  {'film': ['Ready Player One', 'Magnolia', 'Les valseuses'], 'duree': [120, 90], 42: ['et', 'oui'], 'Annee': 2018}\n"
     ]
    }
   ],
   "source": [
    "d = {}    # Création d'un dictionnaire vide\n",
    "d = {\"film\":[\"Ready Player One\", \"Magnolia\"], \"duree\": [120, 90], 42:[\"et\", \"oui\"] }\n",
    "print(d[\"film\"])\n",
    "print(\"Les clés : \", d.keys())\n",
    "print(\"Les valeurs : \", d.values())\n",
    "d[\"film\"].append(\"Les valseuses\")\n",
    "d[\"Annee\"]=2018\n",
    "print(\"A la fin : \", d)"
   ]
  },
  {
   "cell_type": "markdown",
   "metadata": {
    "colab_type": "text",
    "id": "uBFz8-O-H0yI"
   },
   "source": [
    "**Question.** En lisant les données une par une, remplir un dictionnaire *dico* dont les clés sont : \"petal_length\", \"petal_width\", \"sepal_length\", \"sepal_width\""
   ]
  },
  {
   "cell_type": "code",
   "execution_count": 120,
   "metadata": {
    "colab": {},
    "colab_type": "code",
    "id": "HJCiePktH0yJ"
   },
   "outputs": [],
   "source": [
    "dico = {}\n",
    "dico = {\"sepal_length\": list(irisData.data[:,0]),\"sepal_width\":list(irisData.data[:,1]),\"petal_length\":list(irisData.data[:,2]),\"petal_width\":list(irisData.data[:,3])}\n",
    "\n",
    "#print(dico)"
   ]
  },
  {
   "cell_type": "markdown",
   "metadata": {
    "colab_type": "text",
    "id": "-cRc9ADcH0yL"
   },
   "source": [
    "**Question.** Ecrire une fonction display_stat qui prend en entrée un dictionnaire avec les clés de la question précédente et renvoie les statistiques 'moyenne', 'valeur max', 'valeur min', et 'déviation standard' pour chacun des 4 attributs. Ces fonctions sont toutes déjà définies dans le module numpy. Le résultat pourra se présenter sous la forme d'un tableau (pas aussi beau, là c'est du markdown):\n",
    "\n",
    "| Attribut | min | max | moyenne | std |\n",
    "| --- | --- | --- | --- | --- |\n",
    "| sepal_length | 4.30 | 7.90 | 5.84 | 0.83 |\n",
    "| sepal_width | 2.00 |4.40 | 3.05 | 0.43 |\n",
    "| petal_length | 1.00 | 6.90 | 3.76 | 1.76 |\n",
    "| petal_width | 0.10 | 1.20 | 0.76 | 1.00 |\n",
    "\n",
    "   sepal length: 4.3  7.9   5.84  0.83    0.7826   \n",
    "    sepal width: 2.0  4.4   3.05  0.43   -0.4194\n",
    "   petal length: 1.0  6.9   3.76  1.76    0.9490  (high!)\n",
    "    petal width: 0.1  2.5   1.20  0.76    0.9565  (high!)\n"
   ]
  },
  {
   "cell_type": "code",
   "execution_count": 110,
   "metadata": {
    "colab": {},
    "colab_type": "code",
    "id": "gq6BaF8UH0yM"
   },
   "outputs": [],
   "source": [
    "import numpy as np\n",
    "\n",
    "def display_stat(d):\n",
    "    keys = list(d.keys())\n",
    "    for i in range(len(d.keys())):\n",
    "        tag = keys[i]\n",
    "        print(tag , \" {0:.2f} \".format(np.min(d[tag])), \" {0:.2f} \".format(np.max(d[tag])), \" {0:.2f} \".format(np.mean(d[tag])), \" {0:.2f} \".format(np.std(d[tag])))\n",
    "    "
   ]
  },
  {
   "cell_type": "code",
   "execution_count": 121,
   "metadata": {},
   "outputs": [
    {
     "name": "stdout",
     "output_type": "stream",
     "text": [
      "sepal_length  4.30   7.90   5.84   0.83 \n",
      "sepal_width  2.00   4.40   3.06   0.43 \n",
      "petal_length  1.00   6.90   3.76   1.76 \n",
      "petal_width  0.10   2.50   1.20   0.76 \n"
     ]
    }
   ],
   "source": [
    "display_stat(dico)"
   ]
  },
  {
   "cell_type": "markdown",
   "metadata": {
    "colab_type": "text",
    "id": "Klbj_dFtH0yP"
   },
   "source": [
    "**Question.** Utiliser cette fonction sur les données pour chacune des classes. Pour cela, il pourrait être utile de créer un dictionnaire par classe..."
   ]
  },
  {
   "cell_type": "code",
   "execution_count": 122,
   "metadata": {
    "colab": {},
    "colab_type": "code",
    "id": "8zS6moYdH0yQ"
   },
   "outputs": [
    {
     "name": "stdout",
     "output_type": "stream",
     "text": [
      "-----Setosa-----\n",
      "petal_length  0.20   5.10   2.55   1.89 \n",
      "petal_width  0.20   4.90   2.38   1.76 \n",
      "sepal_length  0.20   4.70   2.35   1.73 \n",
      "sepal_width  0.20   4.60   2.35   1.66 \n",
      "\n",
      "-----Versicolor-----\n",
      "petal_length  1.50   6.90   4.10   2.01 \n",
      "petal_width  1.50   6.40   3.90   1.79 \n",
      "sepal_width  1.30   5.50   3.28   1.61 \n",
      "\n",
      "-----Virginica-----\n",
      "petal_length  2.50   6.30   4.53   1.65 \n",
      "petal_width  1.90   5.80   3.88   1.62 \n",
      "sepal_length  2.10   7.10   4.53   2.04 \n",
      "sepal_width  1.80   6.30   4.15   1.86 \n",
      "\n"
     ]
    }
   ],
   "source": [
    "dicosetosa = {}\n",
    "dicosetosa = {\"petal_length\": list(irisData.data[irisData.target==0][0]),\"petal_width\":list(irisData.data[irisData.target==0][1]),\"sepal_length\":list(irisData.data[irisData.target==0][2]),\"sepal_width\":list(irisData.data[irisData.target==0][3])}\n",
    "\n",
    "dicoversicolor = {}\n",
    "dicoversicolor = {\"petal_length\": list(irisData.data[irisData.target==1][0]),\"petal_width\":list(irisData.data[irisData.target==1][1]),\"petal_length\":list(irisData.data[irisData.target==1][2]),\"sepal_width\":list(irisData.data[irisData.target==1][3])}\n",
    "\n",
    "dicovirginica = {}\n",
    "dicovirginica = {\"petal_length\": list(irisData.data[irisData.target==2][0]),\"petal_width\":list(irisData.data[irisData.target==2][1]),\"sepal_length\":list(irisData.data[irisData.target==2][2]),\"sepal_width\":list(irisData.data[irisData.target==2][3])}\n",
    "\n",
    "\n",
    "print(\"-----Setosa-----\")\n",
    "display_stat(dicosetosa)\n",
    "print()\n",
    "\n",
    "print(\"-----Versicolor-----\")\n",
    "display_stat(dicoversicolor)\n",
    "print()\n",
    "\n",
    "print(\"-----Virginica-----\")\n",
    "display_stat(dicovirginica)\n",
    "print()\n",
    "\n"
   ]
  },
  {
   "cell_type": "code",
   "execution_count": 118,
   "metadata": {},
   "outputs": [
    {
     "data": {
      "text/plain": [
       "['sepal length (cm)',\n",
       " 'sepal width (cm)',\n",
       " 'petal length (cm)',\n",
       " 'petal width (cm)']"
      ]
     },
     "execution_count": 118,
     "metadata": {},
     "output_type": "execute_result"
    }
   ],
   "source": [
    "irisData.feature_names\n"
   ]
  },
  {
   "cell_type": "code",
   "execution_count": null,
   "metadata": {},
   "outputs": [],
   "source": []
  }
 ],
 "metadata": {
  "colab": {
   "collapsed_sections": [],
   "name": "TP1-ISD.ipynb",
   "provenance": [],
   "version": "0.3.2"
  },
  "kernelspec": {
   "display_name": "Python 3",
   "language": "python",
   "name": "python3"
  },
  "language_info": {
   "codemirror_mode": {
    "name": "ipython",
    "version": 3
   },
   "file_extension": ".py",
   "mimetype": "text/x-python",
   "name": "python",
   "nbconvert_exporter": "python",
   "pygments_lexer": "ipython3",
   "version": "3.7.3"
  }
 },
 "nbformat": 4,
 "nbformat_minor": 1
}
